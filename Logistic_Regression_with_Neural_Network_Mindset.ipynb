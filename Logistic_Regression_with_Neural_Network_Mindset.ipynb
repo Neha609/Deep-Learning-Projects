{
  "nbformat": 4,
  "nbformat_minor": 0,
  "metadata": {
    "colab": {
      "name": "Logistic Regression with Neural Network Mindset",
      "provenance": [],
      "collapsed_sections": [],
      "include_colab_link": true
    },
    "kernelspec": {
      "name": "python3",
      "display_name": "Python 3"
    }
  },
  "cells": [
    {
      "cell_type": "markdown",
      "metadata": {
        "id": "view-in-github",
        "colab_type": "text"
      },
      "source": [
        "<a href=\"https://colab.research.google.com/github/Neha609/Deep-Learning-Projects/blob/master/Logistic_Regression_with_Neural_Network_Mindset.ipynb\" target=\"_parent\"><img src=\"https://colab.research.google.com/assets/colab-badge.svg\" alt=\"Open In Colab\"/></a>"
      ]
    },
    {
      "cell_type": "markdown",
      "metadata": {
        "id": "DjFWWXew0MBI",
        "colab_type": "text"
      },
      "source": [
        "## **1 - Packages** ##\n",
        "\n",
        "First, let's run the cell below to import all the packages that you will need during this task. \n",
        "- [numpy](www.numpy.org) is the fundamental package for scientific computing with Python.\n",
        "- [h5py](http://www.h5py.org) is a common package to interact with a dataset that is stored on an H5 file.\n",
        "- [matplotlib](http://matplotlib.org) is a famous library to plot graphs in Python.\n",
        "- [PIL](http://www.pythonware.com/products/pil/) and [scipy](https://www.scipy.org/) are used here to test your model with your own picture at the end."
      ]
    },
    {
      "cell_type": "code",
      "metadata": {
        "id": "OpQYnqFBuWKD",
        "colab_type": "code",
        "colab": {}
      },
      "source": [
        "import numpy as np\n",
        "import matplotlib.pyplot as plt\n",
        "import h5py\n",
        "import scipy\n",
        "from PIL import Image\n",
        "from scipy import ndimage\n",
        "\n",
        "%matplotlib inline"
      ],
      "execution_count": 110,
      "outputs": []
    },
    {
      "cell_type": "markdown",
      "metadata": {
        "id": "l7sub4lP0lp4",
        "colab_type": "text"
      },
      "source": [
        "## **2 - Overview of the Problem set** ##\n",
        "\n",
        "**Problem Statement**: You are given a dataset (\"data.h5\") containing:\n",
        "    \n",
        "    - a training set of m_train images labeled as cat (y=1) or non-cat (y=0)\n",
        "    - a test set of m_test images labeled as cat or non-cat\n",
        "    - each image is of shape (num_px, num_px, 3) where 3 is for the 3 channels (RGB). Thus, each image is square (height = num_px) and (width = num_px).\n",
        "\n",
        "You will build a simple image-recognition algorithm that can correctly classify pictures as cat or non-cat.\n",
        "\n",
        "Let's get more familiar with the dataset. "
      ]
    },
    {
      "cell_type": "code",
      "metadata": {
        "id": "gHKM1qNj28AJ",
        "colab_type": "code",
        "colab": {}
      },
      "source": [
        "#Function to load dataset\n",
        "def load_dataset():\n",
        "    train_dataset = h5py.File('/content/drive/My Drive/Colab Notebooks/Research & Development /Deep Learning/Datasets/train_catvnoncat.h5', \"r\")\n",
        "    train_set_x_orig = np.array(train_dataset[\"train_set_x\"][:]) # your train set features\n",
        "    train_set_y_orig = np.array(train_dataset[\"train_set_y\"][:]) # your train set labels\n",
        "\n",
        "    test_dataset = h5py.File('/content/drive/My Drive/Colab Notebooks/Research & Development /Deep Learning/Datasets/test_catvnoncat.h5', \"r\")\n",
        "    test_set_x_orig = np.array(test_dataset[\"test_set_x\"][:]) # your test set features\n",
        "    test_set_y_orig = np.array(test_dataset[\"test_set_y\"][:]) # your test set labels\n",
        "\n",
        "    classes = np.array(test_dataset[\"list_classes\"][:]) # the list of classes\n",
        "    \n",
        "    train_set_y_orig = train_set_y_orig.reshape((1, train_set_y_orig.shape[0]))\n",
        "    test_set_y_orig = test_set_y_orig.reshape((1, test_set_y_orig.shape[0]))\n",
        "    \n",
        "    return train_set_x_orig, train_set_y_orig, test_set_x_orig, test_set_y_orig, classes"
      ],
      "execution_count": 111,
      "outputs": []
    },
    {
      "cell_type": "code",
      "metadata": {
        "id": "TQr7NQDwiAq3",
        "colab_type": "code",
        "colab": {
          "base_uri": "https://localhost:8080/",
          "height": 34
        },
        "outputId": "d2931e66-a2dd-4439-fb67-2b9b0947cd72"
      },
      "source": [
        "from google.colab import drive\n",
        "drive.mount('/content/drive')"
      ],
      "execution_count": 112,
      "outputs": [
        {
          "output_type": "stream",
          "text": [
            "Drive already mounted at /content/drive; to attempt to forcibly remount, call drive.mount(\"/content/drive\", force_remount=True).\n"
          ],
          "name": "stdout"
        }
      ]
    },
    {
      "cell_type": "code",
      "metadata": {
        "id": "oLhFHaa6-0ZL",
        "colab_type": "code",
        "colab": {}
      },
      "source": [
        "# Loading the data (cat/non-cat)\n",
        "train_set_x_orig, train_set_y, test_set_x_orig, test_set_y, classes = load_dataset()"
      ],
      "execution_count": 113,
      "outputs": []
    },
    {
      "cell_type": "markdown",
      "metadata": {
        "id": "HrRyywAQAQ7B",
        "colab_type": "text"
      },
      "source": [
        "We added \"_orig\" at the end of image datasets (train and test) because we are going to preprocess them. After preprocessing, we will end up with train_set_x and test_set_x (the labels train_set_y and test_set_y don't need any preprocessing).\n",
        "\n",
        "Each line of your train_set_x_orig and test_set_x_orig is an array representing an image. You can visualize an example by running the following code. Feel free also to change the `index` value and re-run to see other images. "
      ]
    },
    {
      "cell_type": "code",
      "metadata": {
        "id": "0t48_X2z_ntC",
        "colab_type": "code",
        "colab": {
          "base_uri": "https://localhost:8080/",
          "height": 285
        },
        "outputId": "3af742f9-d521-4b68-d00f-4357e7c37ff9"
      },
      "source": [
        "# Example of a picture\n",
        "index = 25\n",
        "plt.imshow(train_set_x_orig[index])\n",
        "print (\"y = \" + str(train_set_y[:, index]) + \", it's a '\" + classes[np.squeeze(train_set_y[:, index])].decode(\"utf-8\") +  \"' picture.\")"
      ],
      "execution_count": 114,
      "outputs": [
        {
          "output_type": "stream",
          "text": [
            "y = [1], it's a 'cat' picture.\n"
          ],
          "name": "stdout"
        },
        {
          "output_type": "display_data",
          "data": {
            "image/png": "[encoded data removed]",
            "text/plain": [
              "<Figure size 432x288 with 1 Axes>"
            ]
          },
          "metadata": {
            "tags": [],
            "needs_background": "light"
          }
        }
      ]
    },
    {
      "cell_type": "code",
      "metadata": {
        "id": "sklm69JjPElk",
        "colab_type": "code",
        "colab": {
          "base_uri": "https://localhost:8080/",
          "height": 285
        },
        "outputId": "d7815540-082c-41ad-ded7-66cf26a9e07b"
      },
      "source": [
        "# Example of another picture\n",
        "index = 23\n",
        "plt.imshow(train_set_x_orig[index])\n",
        "print (\"y = \" + str(train_set_y[:, index]) + \", it's a '\" + classes[np.squeeze(train_set_y[:, index])].decode(\"utf-8\") +  \"' picture.\")"
      ],
      "execution_count": 115,
      "outputs": [
        {
          "output_type": "stream",
          "text": [
            "y = [0], it's a 'non-cat' picture.\n"
          ],
          "name": "stdout"
        },
        {
          "output_type": "display_data",
          "data": {
            "image/png": "[encoded data removed]",
            "text/plain": [
              "<Figure size 432x288 with 1 Axes>"
            ]
          },
          "metadata": {
            "tags": [],
            "needs_background": "light"
          }
        }
      ]
    },
    {
      "cell_type": "markdown",
      "metadata": {
        "id": "JPDvKUI2AetI",
        "colab_type": "text"
      },
      "source": [
        "Many software bugs in deep learning come from having matrix/vector dimensions that don't fit. If you can keep your matrix/vector dimensions straight you will go a long way toward eliminating many bugs. \n",
        "\n",
        "**Exercise:** Find the values for:\n",
        "    \n",
        "    - m_train (number of training examples)\n",
        "    - m_test (number of test examples)\n",
        "    - num_px (= height = width of a training image)\n",
        "Remember that `train_set_x_orig` is a numpy-array of shape (m_train, num_px, num_px, 3). For instance, you can access `m_train` by writing `train_set_x_orig.shape[0]`."
      ]
    },
    {
      "cell_type": "code",
      "metadata": {
        "id": "AJnBZT5XAhF6",
        "colab_type": "code",
        "colab": {
          "base_uri": "https://localhost:8080/",
          "height": 153
        },
        "outputId": "9ac62ec0-2108-4c87-bf36-0bcc654d1692"
      },
      "source": [
        "### START CODE HERE ### (≈ 3 lines of code)\n",
        "m_train = train_set_y.shape[1]\n",
        "m_test = test_set_y.shape[1]\n",
        "num_px = train_set_x_orig.shape[1]\n",
        "### END CODE HERE ###\n",
        "\n",
        "print (\"Number of training examples: m_train = \" + str(m_train))\n",
        "print (\"Number of testing examples: m_test = \" + str(m_test))\n",
        "print (\"Height/Width of each image: num_px = \" + str(num_px))\n",
        "print (\"Each image is of size: (\" + str(num_px) + \", \" + str(num_px) + \", 3)\")\n",
        "print (\"train_set_x shape: \" + str(train_set_x_orig.shape))\n",
        "print (\"train_set_y shape: \" + str(train_set_y.shape))\n",
        "print (\"test_set_x shape: \" + str(test_set_x_orig.shape))\n",
        "print (\"test_set_y shape: \" + str(test_set_y.shape))"
      ],
      "execution_count": 116,
      "outputs": [
        {
          "output_type": "stream",
          "text": [
            "Number of training examples: m_train = 209\n",
            "Number of testing examples: m_test = 50\n",
            "Height/Width of each image: num_px = 64\n",
            "Each image is of size: (64, 64, 3)\n",
            "train_set_x shape: (209, 64, 64, 3)\n",
            "train_set_y shape: (1, 209)\n",
            "test_set_x shape: (50, 64, 64, 3)\n",
            "test_set_y shape: (1, 50)\n"
          ],
          "name": "stdout"
        }
      ]
    },
    {
      "cell_type": "markdown",
      "metadata": {
        "id": "QuQ15IP4An0V",
        "colab_type": "text"
      },
      "source": [
        "**Expected Output for m_train, m_test and num_px**: \n",
        "<table style=\"width:15%\">\n",
        "  <tr>\n",
        "    <td>m_train</td>\n",
        "    <td> 209 </td> \n",
        "  </tr>\n",
        "  \n",
        "  <tr>\n",
        "    <td>m_test</td>\n",
        "    <td> 50 </td> \n",
        "  </tr>\n",
        "  \n",
        "  <tr>\n",
        "    <td>num_px</td>\n",
        "    <td> 64 </td> \n",
        "  </tr>\n",
        "  \n",
        "</table>\n"
      ]
    },
    {
      "cell_type": "markdown",
      "metadata": {
        "id": "BgggfhrOA0_W",
        "colab_type": "text"
      },
      "source": [
        "For convenience, you should now reshape images of shape (num_px, num_px, 3) in a numpy-array of shape (num_px $*$ num_px $*$ 3, 1). After this, our training (and test) dataset is a numpy-array where each column represents a flattened image. There should be m_train (respectively m_test) columns.\n",
        "\n",
        "**Exercise:** Reshape the training and test data sets so that images of size (num_px, num_px, 3) are flattened into single vectors of shape (num\\_px $*$ num\\_px $*$ 3, 1).\n",
        "\n",
        "A trick when you want to flatten a matrix X of shape (a,b,c,d) to a matrix X_flatten of shape (b$*$c$*$d, a) is to use: \n",
        "```python\n",
        "X_flatten = X.reshape(X.shape[0], -1).T      # X.T is the transpose of X\n",
        "```"
      ]
    },
    {
      "cell_type": "code",
      "metadata": {
        "id": "vEyUdxz3A69x",
        "colab_type": "code",
        "colab": {
          "base_uri": "https://localhost:8080/",
          "height": 102
        },
        "outputId": "a21c8044-08c4-451e-d51e-14a23f543edc"
      },
      "source": [
        "# Reshape the training and test examples\n",
        "\n",
        "### START CODE HERE ### (≈ 2 lines of code)\n",
        "train_set_x_flatten = train_set_x_orig.reshape(train_set_x_orig.shape[0], -1).T\n",
        "test_set_x_flatten = test_set_x_orig.reshape(test_set_x_orig.shape[0], -1).T\n",
        "### END CODE HERE ###\n",
        "\n",
        "print (\"train_set_x_flatten shape: \" + str(train_set_x_flatten.shape))\n",
        "print (\"train_set_y shape: \" + str(train_set_y.shape))\n",
        "print (\"test_set_x_flatten shape: \" + str(test_set_x_flatten.shape))\n",
        "print (\"test_set_y shape: \" + str(test_set_y.shape))\n",
        "print (\"sanity check after reshaping: \" + str(train_set_x_flatten[0:5,0]))"
      ],
      "execution_count": 117,
      "outputs": [
        {
          "output_type": "stream",
          "text": [
            "train_set_x_flatten shape: (12288, 209)\n",
            "train_set_y shape: (1, 209)\n",
            "test_set_x_flatten shape: (12288, 50)\n",
            "test_set_y shape: (1, 50)\n",
            "sanity check after reshaping: [17 31 56 22 33]\n"
          ],
          "name": "stdout"
        }
      ]
    },
    {
      "cell_type": "markdown",
      "metadata": {
        "id": "EDLmwlIreSjv",
        "colab_type": "text"
      },
      "source": [
        "**Expected Output**: \n",
        "\n",
        "<table style=\"width:35%\">\n",
        "  <tr>\n",
        "    <td>train_set_x_flatten shape</td>\n",
        "    <td> (12288, 209)</td> \n",
        "  </tr>\n",
        "  <tr>\n",
        "    <td>train_set_y shape</td>\n",
        "    <td>(1, 209)</td> \n",
        "  </tr>\n",
        "  <tr>\n",
        "    <td>test_set_x_flatten shape</td>\n",
        "    <td>(12288, 50)</td> \n",
        "  </tr>\n",
        "  <tr>\n",
        "    <td>test_set_y shape</td>\n",
        "    <td>(1, 50)</td> \n",
        "  </tr>\n",
        "  <tr>\n",
        "  <td>sanity check after reshaping</td>\n",
        "  <td>[17 31 56 22 33]</td> \n",
        "  </tr>\n",
        "</table>"
      ]
    },
    {
      "cell_type": "markdown",
      "metadata": {
        "id": "Ft05550regQ4",
        "colab_type": "text"
      },
      "source": [
        "To represent color images, the red, green and blue channels (RGB) must be specified for each pixel, and so the pixel value is actually a vector of three numbers ranging from 0 to 255.\n",
        "\n",
        "One common preprocessing step in machine learning is to center and standardize your dataset, meaning that you substract the mean of the whole numpy array from each example, and then divide each example by the standard deviation of the whole numpy array. But for picture datasets, it is simpler and more convenient and works almost as well to just divide every row of the dataset by 255 (the maximum value of a pixel channel).\n",
        "\n",
        "<!-- During the training of your model, you're going to multiply weights and add biases to some initial inputs in order to observe neuron activations. Then you backpropogate with the gradients to train the model. But, it is extremely important for each feature to have a similar range such that our gradients don't explode. You will see that more in detail later in the lectures. !--> \n",
        "\n",
        "Let's standardize our dataset."
      ]
    },
    {
      "cell_type": "code",
      "metadata": {
        "id": "kChlWar5nVdY",
        "colab_type": "code",
        "colab": {}
      },
      "source": [
        "train_set_x = train_set_x_flatten/255.\n",
        "test_set_x = test_set_x_flatten/255."
      ],
      "execution_count": 118,
      "outputs": []
    },
    {
      "cell_type": "markdown",
      "metadata": {
        "id": "iFuVmyiVcr3V",
        "colab_type": "text"
      },
      "source": [
        "<font color='blue'>\n",
        "  What you need to remember:\n",
        "\n",
        "  Common steps for pre-processing a new dataset are:\n",
        "- Figure out the dimensions and shapes of the problem (m_train, m_test, num_px, ...)\n",
        "- Reshape the datasets such that each example is now a vector of size (num_px \\* num_px \\* 3, 1)\n",
        "- \"Standardize\" the data"
      ]
    },
    {
      "cell_type": "markdown",
      "metadata": {
        "id": "Lz4uvXpwdKSD",
        "colab_type": "text"
      },
      "source": [
        "## **3 - General Architecture of the learning algorithm** ##\n",
        "\n",
        "It's time to design a simple algorithm to distinguish cat images from non-cat images.\n",
        "\n",
        "You will build a Logistic Regression, using a Neural Network mindset. The following Figure explains why **Logistic Regression is actually a very simple Neural Network!**\n",
        "\n",
        "\n",
        "\n"
      ]
    },
    {
      "cell_type": "markdown",
      "metadata": {
        "id": "ZsPGSbUVdYSM",
        "colab_type": "text"
      },
      "source": [
        "![image.png](data:image/png;base64,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)"
      ]
    },
    {
      "cell_type": "markdown",
      "metadata": {
        "id": "SD8BRW43dVM_",
        "colab_type": "text"
      },
      "source": [
        "**Mathematical expression of the algorithm**:\n",
        "\n",
        "For one example $x^{(i)}$:\n",
        "$$z^{(i)} = w^T x^{(i)} + b \\tag{1}$$\n",
        "$$\\hat{y}^{(i)} = a^{(i)} = sigmoid(z^{(i)})\\tag{2}$$ \n",
        "$$ \\mathcal{L}(a^{(i)}, y^{(i)}) =  - y^{(i)}  \\log(a^{(i)}) - (1-y^{(i)} )  \\log(1-a^{(i)})\\tag{3}$$\n",
        "\n",
        "The cost is then computed by summing over all training examples:\n",
        "$$ J = \\frac{1}{m} \\sum_{i=1}^m \\mathcal{L}(a^{(i)}, y^{(i)})\\tag{6}$$\n",
        "\n",
        "**Key steps**:\n",
        "In this exercise, you will carry out the following steps: \n",
        "\n",
        "    - Initialize the parameters of the model\n",
        "    - Learn the parameters for the model by minimizing the cost  \n",
        "    - Use the learned parameters to make predictions (on the test set)\n",
        "    - Analyse the results and conclude"
      ]
    },
    {
      "cell_type": "markdown",
      "metadata": {
        "id": "gkMgRy6eeGqf",
        "colab_type": "text"
      },
      "source": [
        "## **4 - Building the parts of our algorithm** ## \n",
        "\n",
        "The main steps for building a Neural Network are:\n",
        "1. Define the model structure (such as number of input features) \n",
        "2. Initialize the model's parameters\n",
        "3. Loop:\n",
        "    - Calculate current loss (forward propagation)\n",
        "    - Calculate current gradient (backward propagation)\n",
        "    - Update parameters (gradient descent)\n",
        "\n",
        "You often build 1-3 separately and integrate them into one function we call `model()`.\n",
        "\n",
        "### 4.1 - Helper functions\n",
        "\n",
        "**Exercise**: Using your code from \"Python Basics\", implement `sigmoid()`. As you've seen in the figure above, you need to compute $sigmoid( w^T x + b) = \\frac{1}{1 + e^{-(w^T x + b)}}$ to make predictions. Use np.exp()."
      ]
    },
    {
      "cell_type": "code",
      "metadata": {
        "id": "sqLHefMMnVsd",
        "colab_type": "code",
        "colab": {}
      },
      "source": [
        "#sigmoid\n",
        "\n",
        "def sigmoid(z):\n",
        "    \"\"\"\n",
        "    Compute the sigmoid of z\n",
        "\n",
        "    Arguments:\n",
        "    z -- A scalar or numpy array of any size.\n",
        "\n",
        "    Return:\n",
        "    s -- sigmoid(z)\n",
        "    \"\"\"\n",
        "\n",
        "    ### START CODE HERE ### (≈ 1 line of code)\n",
        "    s = 1 / (1 + np.exp(-z))\n",
        "    ### END CODE HERE ###\n",
        "    \n",
        "    return s"
      ],
      "execution_count": 119,
      "outputs": []
    },
    {
      "cell_type": "code",
      "metadata": {
        "id": "Qwj6npicvDi7",
        "colab_type": "code",
        "colab": {
          "base_uri": "https://localhost:8080/",
          "height": 51
        },
        "outputId": "f8d2eeb6-67d9-4a69-ce82-0e8bea63db7d"
      },
      "source": [
        "print (\"sigmoid(0) = \" + str(sigmoid(0)))\n",
        "print (\"sigmoid(9.2) = \" + str(sigmoid(9.2)))\n"
      ],
      "execution_count": 120,
      "outputs": [
        {
          "output_type": "stream",
          "text": [
            "sigmoid(0) = 0.5\n",
            "sigmoid(9.2) = 0.9998989708060922\n"
          ],
          "name": "stdout"
        }
      ]
    },
    {
      "cell_type": "markdown",
      "metadata": {
        "id": "rPrN9OKeveOv",
        "colab_type": "text"
      },
      "source": [
        "**Expected Output**: \n",
        "\n",
        "<table>\n",
        "  <tr>\n",
        "    <td>sigmoid([0, 2])</td>\n",
        "    <td> [ 0.5         0.88079708]</td> \n",
        "  </tr>\n",
        "</table>"
      ]
    },
    {
      "cell_type": "markdown",
      "metadata": {
        "id": "ZwW0aosPvnbH",
        "colab_type": "text"
      },
      "source": [
        "### **4.2 - Initializing parameters**\n",
        "\n",
        "**Exercise:** Implement parameter initialization in the cell below. You have to initialize w as a vector of zeros. If you don't know what numpy function to use, look up np.zeros() in the Numpy library's documentation."
      ]
    },
    {
      "cell_type": "code",
      "metadata": {
        "id": "J0QYsOb8vbaP",
        "colab_type": "code",
        "colab": {}
      },
      "source": [
        "# initialize_with_zeros\n",
        "\n",
        "def initialize_with_zeros(dim):\n",
        "    \"\"\"\n",
        "    This function creates a vector of zeros of shape (dim, 1) for w and initializes b to 0.\n",
        "    \n",
        "    Argument:\n",
        "    dim -- size of the w vector we want (or number of parameters in this case)\n",
        "    \n",
        "    Returns:\n",
        "    w -- initialized vector of shape (dim, 1)\n",
        "    b -- initialized scalar (corresponds to the bias)\n",
        "    \"\"\"\n",
        "    \n",
        "    ### START CODE HERE ### (≈ 1 line of code)\n",
        "    w = np.zeros(shape=(dim, 1))\n",
        "    b = 0\n",
        "    ### END CODE HERE ###\n",
        "\n",
        "    assert(w.shape == (dim, 1))\n",
        "    assert(isinstance(b, float) or isinstance(b, int))\n",
        "    \n",
        "    return w, b"
      ],
      "execution_count": 121,
      "outputs": []
    },
    {
      "cell_type": "code",
      "metadata": {
        "id": "VtPhP5lJz9Gk",
        "colab_type": "code",
        "colab": {
          "base_uri": "https://localhost:8080/",
          "height": 68
        },
        "outputId": "5f7b9741-4e17-471d-c36c-d492292a84e8"
      },
      "source": [
        "dim = 2\n",
        "w, b = initialize_with_zeros(dim)\n",
        "print (\"w = \" + str(w))\n",
        "print (\"b = \" + str(b))"
      ],
      "execution_count": 122,
      "outputs": [
        {
          "output_type": "stream",
          "text": [
            "w = [[0.]\n",
            " [0.]]\n",
            "b = 0\n"
          ],
          "name": "stdout"
        }
      ]
    },
    {
      "cell_type": "markdown",
      "metadata": {
        "id": "zW9-bu-G1PM3",
        "colab_type": "text"
      },
      "source": [
        "**Expected Output**: \n",
        "\n",
        "\n",
        "<table style=\"width:15%\">\n",
        "    <tr>\n",
        "        <td>   w   </td>\n",
        "        <td> [[ 0.]\n",
        " [ 0.]] </td>\n",
        "    </tr>\n",
        "    <tr>\n",
        "        <td>   b  </td>\n",
        "        <td> 0 </td>\n",
        "    </tr>\n",
        "</table>\n",
        "\n",
        "For image inputs, w will be of shape (num_px $\\times$ num_px $\\times$ 3, 1)."
      ]
    },
    {
      "cell_type": "markdown",
      "metadata": {
        "id": "tIsBya8_1jXb",
        "colab_type": "text"
      },
      "source": [
        "### **4.3 - Forward and Backward propagation**\n",
        "\n",
        "Now that your parameters are initialized, you can do the \"forward\" and \"backward\" propagation steps for learning the parameters.\n",
        "\n",
        "**Exercise:** Implement a function `propagate()` that computes the cost function and its gradient.\n",
        "\n",
        "**Hints**:\n",
        "\n",
        "Forward Propagation:\n",
        "- You get X\n",
        "- You compute $A = \\sigma(w^T X + b) = (a^{(1)}, a^{(2)}, ..., a^{(m-1)}, a^{(m)})$\n",
        "- You calculate the cost function: $J = -\\frac{1}{m}\\sum_{i=1}^{m}y^{(i)}\\log(a^{(i)})+(1-y^{(i)})\\log(1-a^{(i)})$\n",
        "\n",
        "Here are the two formulas you will be using: \n",
        "\n",
        "$$ \\frac{\\partial J}{\\partial w} = \\frac{1}{m}X(A-Y)^T\\tag{7}$$\n",
        "$$ \\frac{\\partial J}{\\partial b} = \\frac{1}{m} \\sum_{i=1}^m (a^{(i)}-y^{(i)})\\tag{8}$$"
      ]
    },
    {
      "cell_type": "code",
      "metadata": {
        "id": "3835O68D0G-g",
        "colab_type": "code",
        "colab": {}
      },
      "source": [
        "#propagate\n",
        "\n",
        "def propagate(w, b, X, Y):\n",
        "    \"\"\"\n",
        "    Implement the cost function and its gradient for the propagation explained above\n",
        "\n",
        "    Arguments:\n",
        "    w -- weights, a numpy array of size (num_px * num_px * 3, 1)\n",
        "    b -- bias, a scalar\n",
        "    X -- data of size (num_px * num_px * 3, number of examples)\n",
        "    Y -- true \"label\" vector (containing 0 if non-cat, 1 if cat) of size (1, number of examples)\n",
        "\n",
        "    Return:\n",
        "    cost -- negative log-likelihood cost for logistic regression\n",
        "    dw -- gradient of the loss with respect to w, thus same shape as w\n",
        "    db -- gradient of the loss with respect to b, thus same shape as b\n",
        "    \n",
        "    Tips:\n",
        "    - Write your code step by step for the propagation. np.log(), np.dot()\n",
        "    \"\"\"\n",
        "    \n",
        "    m = X.shape[0]\n",
        "    w,b = initialize_with_zeros(m)\n",
        "    # FORWARD PROPAGATION (FROM X TO COST)\n",
        "    ### START CODE HERE ### (≈ 2 lines of code)\n",
        "    A = sigmoid(np.dot(w.T, X) + b)  # compute activation\n",
        "    cost = (- 1 / m) * np.sum(Y * np.log(A) + (1 - Y) * (np.log(1 - A)))  # compute cost\n",
        "    ### END CODE HERE ###\n",
        "    \n",
        "    # BACKWARD PROPAGATION (TO FIND GRAD)\n",
        "    ### START CODE HERE ### (≈ 2 lines of code)\n",
        "    dw = (1 / m) * np.dot(X, (A - Y).T)\n",
        "    db = (1 / m) * np.sum(A - Y)\n",
        "    ### END CODE HERE ###\n",
        "\n",
        "    assert(dw.shape == w.shape)\n",
        "    assert(db.dtype == float)\n",
        "    cost = np.squeeze(cost)\n",
        "    assert(cost.shape == ())\n",
        "    \n",
        "    grads = {\"dw\": dw,\n",
        "             \"db\": db}\n",
        "    \n",
        "    return grads, cost"
      ],
      "execution_count": 133,
      "outputs": []
    },
    {
      "cell_type": "code",
      "metadata": {
        "id": "f8fk6h1jzwvV",
        "colab_type": "code",
        "colab": {
          "base_uri": "https://localhost:8080/",
          "height": 85
        },
        "outputId": "f901855c-b326-4282-a65b-25fa4c9fc11b"
      },
      "source": [
        "w, b, X, Y = np.array([[1.],[2.]]), 2., np.array([[1.,2.,-1.],[3.,4.,-3.2]]), np.array([[1,0,1]])\n",
        "grads, cost = propagate(w, b, X, Y)\n",
        "print (\"dw = \" + str(grads[\"dw\"]))\n",
        "print (\"db = \" + str(grads[\"db\"]))\n",
        "print (\"cost = \" + str(cost))"
      ],
      "execution_count": 134,
      "outputs": [
        {
          "output_type": "stream",
          "text": [
            "dw = [[0.5 ]\n",
            " [1.05]]\n",
            "db = -0.25\n",
            "cost = 1.0397207708399179\n"
          ],
          "name": "stdout"
        }
      ]
    },
    {
      "cell_type": "markdown",
      "metadata": {
        "id": "tjqvW48qTwXK",
        "colab_type": "text"
      },
      "source": [
        "**Expected Output**:\n",
        "\n",
        "<table style=\"width:50%\">\n",
        "    <tr>\n",
        "        <td>  dw  </td>\n",
        "      <td> [[ 0.99845601]\n",
        "     [ 2.39507239]]</td>\n",
        "    </tr>\n",
        "    <tr>\n",
        "        <td>  db  </td>\n",
        "        <td> 0.00145557813678 </td>\n",
        "    </tr>\n",
        "    <tr>\n",
        "        <td>  cost  </td>\n",
        "        <td> 5.801545319394553 </td>\n",
        "    </tr>\n",
        "\n",
        "</table>"
      ]
    },
    {
      "cell_type": "markdown",
      "metadata": {
        "id": "FzfML1pIUQU_",
        "colab_type": "text"
      },
      "source": [
        "### **4.4 - Optimization**\n",
        "- You have initialized your parameters.\n",
        "- You are also able to compute a cost function and its gradient.\n",
        "- Now, you want to update the parameters using gradient descent.\n",
        "\n",
        "**Exercise:** Write down the optimization function. The goal is to learn $w$ and $b$ by minimizing the cost function $J$. For a parameter $\\theta$, the update rule is $ \\theta = \\theta - \\alpha \\text{ } d\\theta$, where $\\alpha$ is the learning rate."
      ]
    },
    {
      "cell_type": "code",
      "metadata": {
        "id": "nSfPw7-H_oZ3",
        "colab_type": "code",
        "colab": {}
      },
      "source": [
        "# optimize\n",
        "\n",
        "def optimize(w, b, X, Y, num_iterations, learning_rate, print_cost = False):\n",
        "    \"\"\"\n",
        "    This function optimizes w and b by running a gradient descent algorithm\n",
        "    \n",
        "    Arguments:\n",
        "    w -- weights, a numpy array of size (num_px * num_px * 3, 1)\n",
        "    b -- bias, a scalar\n",
        "    X -- data of shape (num_px * num_px * 3, number of examples)\n",
        "    Y -- true \"label\" vector (containing 0 if non-cat, 1 if cat), of shape (1, number of examples)\n",
        "    num_iterations -- number of iterations of the optimization loop\n",
        "    learning_rate -- learning rate of the gradient descent update rule\n",
        "    print_cost -- True to print the loss every 100 steps\n",
        "    \n",
        "    Returns:\n",
        "    params -- dictionary containing the weights w and bias b\n",
        "    grads -- dictionary containing the gradients of the weights and bias with respect to the cost function\n",
        "    costs -- list of all the costs computed during the optimization, this will be used to plot the learning curve.\n",
        "    \n",
        "    Tips:\n",
        "    You basically need to write down two steps and iterate through them:\n",
        "        1) Calculate the cost and the gradient for the current parameters. Use propagate().\n",
        "        2) Update the parameters using gradient descent rule for w and b.\n",
        "    \"\"\"\n",
        "    \n",
        "    costs = []\n",
        "    \n",
        "    for i in range(num_iterations):\n",
        "        \n",
        "        \n",
        "        # Cost and gradient calculation (≈ 1-4 lines of code)\n",
        "        ### START CODE HERE ### \n",
        "        grads, cost = propagate(w, b, X, Y)\n",
        "        ### END CODE HERE ###\n",
        "        \n",
        "        # Retrieve derivatives from grads\n",
        "        dw = grads[\"dw\"]\n",
        "        db = grads[\"db\"]\n",
        "        \n",
        "        # update rule (≈ 2 lines of code)\n",
        "        ### START CODE HERE ###\n",
        "        w = w - (learning_rate * dw)\n",
        "        b = b - (learning_rate * db)\n",
        "        ### END CODE HERE ###\n",
        "        \n",
        "        # Record the costs\n",
        "        if i % 100 == 0:\n",
        "            costs.append(cost)\n",
        "        \n",
        "        # Print the cost every 100 training iterations\n",
        "        if print_cost and i % 100 == 0:\n",
        "            print (\"Cost after iteration %i: %f\" %(i, cost))\n",
        "    \n",
        "    params = {\"w\": w,\n",
        "              \"b\": b}\n",
        "    \n",
        "    grads = {\"dw\": dw,\n",
        "             \"db\": db}\n",
        "    \n",
        "    return params, grads, costs"
      ],
      "execution_count": 135,
      "outputs": []
    },
    {
      "cell_type": "code",
      "metadata": {
        "id": "GPMeLaoAlZc5",
        "colab_type": "code",
        "colab": {
          "base_uri": "https://localhost:8080/",
          "height": 119
        },
        "outputId": "a1c5d574-c364-4a3e-e4f4-8d2b38441ea2"
      },
      "source": [
        "params, grads, costs = optimize(w, b, X, Y, num_iterations= 100, learning_rate = 0.009, print_cost = False)\n",
        "\n",
        "print (\"w = \" + str(params[\"w\"]))\n",
        "print (\"b = \" + str(params[\"b\"]))\n",
        "print (\"dw = \" + str(grads[\"dw\"]))\n",
        "print (\"db = \" + str(grads[\"db\"]))"
      ],
      "execution_count": 126,
      "outputs": [
        {
          "output_type": "stream",
          "text": [
            "w = [[0.19033591]\n",
            " [0.12259159]]\n",
            "b = 1.9253598300845747\n",
            "dw = [[0.67752042]\n",
            " [1.41625495]]\n",
            "db = 0.21919450454067657\n"
          ],
          "name": "stdout"
        }
      ]
    },
    {
      "cell_type": "markdown",
      "metadata": {
        "id": "R2-lx6gclanH",
        "colab_type": "text"
      },
      "source": [
        "**Expected Output:**\n",
        "\n",
        "**w**\t[[ 0.19033591] [ 0.12259159]]\n",
        "\n",
        "**b**\t1.92535983008\n",
        "\n",
        "**dw**\t[[ 0.67752042] [ 1.41625495]]\n",
        "\n",
        "**db**\t0.219194504541\n"
      ]
    },
    {
      "cell_type": "markdown",
      "metadata": {
        "id": "eAPtbro-mu6K",
        "colab_type": "text"
      },
      "source": [
        "**Exercise:** The previous function will output the learned w and b. We are able to use w and b to predict the labels for a dataset X. Implement the `predict()` function. There are two steps to computing predictions:\n",
        "\n",
        "1. Calculate $\\hat{Y} = A = \\sigma(w^T X + b)$\n",
        "\n",
        "2. Convert the entries of a into 0 (if activation <= 0.5) or 1 (if activation > 0.5), stores the predictions in a vector `Y_prediction`. If you wish, you can use an `if`/`else` statement in a `for` loop (though there is also a way to vectorize this). "
      ]
    },
    {
      "cell_type": "code",
      "metadata": {
        "id": "yBg9GuI_m3QF",
        "colab_type": "code",
        "colab": {}
      },
      "source": [
        "# predict\n",
        "\n",
        "def predict(w, b, X):\n",
        "    '''\n",
        "    Predict whether the label is 0 or 1 using learned logistic regression parameters (w, b)\n",
        "    \n",
        "    Arguments:\n",
        "    w -- weights, a numpy array of size (num_px * num_px * 3, 1)\n",
        "    b -- bias, a scalar\n",
        "    X -- data of size (num_px * num_px * 3, number of examples)\n",
        "    \n",
        "    Returns:\n",
        "    Y_prediction -- a numpy array (vector) containing all predictions (0/1) for the examples in X\n",
        "    '''\n",
        "    \n",
        "    m = X.shape[1]\n",
        "    Y_prediction = np.zeros((1,m))\n",
        "    w = w.reshape(X.shape[0], 1)\n",
        "    \n",
        "    # Compute vector \"A\" predicting the probabilities of a cat being present in the picture\n",
        "    ### START CODE HERE ### (≈ 1 line of code)\n",
        "    A = sigmoid(np.dot(w.T, X) + b)\n",
        "    ### END CODE HERE ###\n",
        "    \n",
        "    for i in range(A.shape[1]):\n",
        "        \n",
        "        # Convert probabilities A[0,i] to actual predictions p[0,i]\n",
        "        ### START CODE HERE ### (≈ 4 lines of code)\n",
        "        if A[0,i] <= 0.5:\n",
        "          A[0,i] = 0\n",
        "        else:\n",
        "          A[0,i] = 1\n",
        "        pass\n",
        "        Y_prediction = A\n",
        "        ### END CODE HERE ###\n",
        "    \n",
        "    assert(Y_prediction.shape == (1, m))\n",
        "    \n",
        "    return Y_prediction"
      ],
      "execution_count": 127,
      "outputs": []
    },
    {
      "cell_type": "code",
      "metadata": {
        "id": "lsbkI4ugs5aW",
        "colab_type": "code",
        "colab": {
          "base_uri": "https://localhost:8080/",
          "height": 34
        },
        "outputId": "fa1a0521-ac78-4049-8fbc-3898bc8d01df"
      },
      "source": [
        "w = np.array([[0.1124579],[0.23106775]])\n",
        "b = -0.3\n",
        "X = np.array([[1.,-1.1,-3.2],[1.2,2.,0.1]])\n",
        "print (\"predictions = \" + str(predict(w, b, X)))\n",
        "\n",
        "  "
      ],
      "execution_count": 128,
      "outputs": [
        {
          "output_type": "stream",
          "text": [
            "predictions = [[1. 1. 0.]]\n"
          ],
          "name": "stdout"
        }
      ]
    },
    {
      "cell_type": "markdown",
      "metadata": {
        "id": "5CncPfdqBjEP",
        "colab_type": "text"
      },
      "source": [
        "**Expected Output**: \n",
        "\n",
        "<table style=\"width:30%\">\n",
        "    <tr>\n",
        "         <td>\n",
        "             predictions\n",
        "         </td>\n",
        "          <td>\n",
        "            [[ 1.  1.  0.]]\n",
        "         </td>  \n",
        "   </tr>\n",
        "\n",
        "</table>\n"
      ]
    },
    {
      "cell_type": "markdown",
      "metadata": {
        "id": "4hZsGr6QBng6",
        "colab_type": "text"
      },
      "source": [
        "\n",
        "**What to remember**:\n",
        "\n",
        "You've implemented several functions that:\n",
        "- Initialize (w,b)\n",
        "- Optimize the loss iteratively to learn parameters (w,b):\n",
        "    - computing the cost and its gradient \n",
        "    - updating the parameters using gradient descent\n",
        "- Use the learned (w,b) to predict the labels for a given set of examples"
      ]
    },
    {
      "cell_type": "markdown",
      "metadata": {
        "id": "t6bWbdmgB6yP",
        "colab_type": "text"
      },
      "source": [
        "## **5 - Merge all functions into a model** ##\n",
        "\n",
        "You will now see how the overall model is structured by putting together all the building blocks (functions implemented in the previous parts) together, in the right order.\n",
        "\n",
        "**Exercise:** Implement the model function. Use the following notation:\n",
        "    - Y_prediction_test for your predictions on the test set\n",
        "    - Y_prediction_train for your predictions on the train set\n",
        "    - w, costs, grads for the outputs of optimize()"
      ]
    },
    {
      "cell_type": "code",
      "metadata": {
        "id": "M0sPRx7-Bd8l",
        "colab_type": "code",
        "colab": {}
      },
      "source": [
        "# model\n",
        "\n",
        "def model(X_train, Y_train, X_test, Y_test, num_iterations = 2000, learning_rate = 0.5, print_cost = False):\n",
        "    \"\"\"\n",
        "    Builds the logistic regression model by calling the function you've implemented previously\n",
        "    \n",
        "    Arguments:\n",
        "    X_train -- training set represented by a numpy array of shape (num_px * num_px * 3, m_train)\n",
        "    Y_train -- training labels represented by a numpy array (vector) of shape (1, m_train)\n",
        "    X_test -- test set represented by a numpy array of shape (num_px * num_px * 3, m_test)\n",
        "    Y_test -- test labels represented by a numpy array (vector) of shape (1, m_test)\n",
        "    num_iterations -- hyperparameter representing the number of iterations to optimize the parameters\n",
        "    learning_rate -- hyperparameter representing the learning rate used in the update rule of optimize()\n",
        "    print_cost -- Set to true to print the cost every 100 iterations\n",
        "    \n",
        "    Returns:\n",
        "    d -- dictionary containing information about the model.\n",
        "    \"\"\"\n",
        "    \n",
        "    ### START CODE HERE ###\n",
        "    \n",
        "    # initialize parameters with zeros (≈ 1 line of code)\n",
        "    w, b = initialize_with_zeros(X_train.shape[0])\n",
        "\n",
        "    # Gradient descent (≈ 1 line of code)\n",
        "    parameters, grads, costs = optimize(w, b, X_train, Y_train, num_iterations, learning_rate , print_cost = False)\n",
        "    \n",
        "    # Retrieve parameters w and b from dictionary \"parameters\"\n",
        "    w = parameters[\"w\"]\n",
        "    b = parameters[\"b\"]\n",
        "    \n",
        "    # Predict test/train set examples (≈ 2 lines of code)\n",
        "    Y_prediction_test = predict(w, b, X_test)\n",
        "    Y_prediction_train = predict(w, b, X_train)\n",
        "\n",
        "    ### END CODE HERE ###\n",
        "\n",
        "    # Print train/test Errors\n",
        "    print(\"train accuracy: {} %\".format(100 - np.mean(np.abs(Y_prediction_train - Y_train)) * 100))\n",
        "    print(\"test accuracy: {} %\".format(100 - np.mean(np.abs(Y_prediction_test - Y_test)) * 100))\n",
        "\n",
        "    \n",
        "    d = {\"costs\": costs,\n",
        "         \"Y_prediction_test\": Y_prediction_test, \n",
        "         \"Y_prediction_train\" : Y_prediction_train, \n",
        "         \"w\" : w, \n",
        "         \"b\" : b,\n",
        "         \"learning_rate\" : learning_rate,\n",
        "         \"num_iterations\": num_iterations}\n",
        "    \n",
        "    return d"
      ],
      "execution_count": 129,
      "outputs": []
    },
    {
      "cell_type": "markdown",
      "metadata": {
        "id": "cho_EIsbFt6X",
        "colab_type": "text"
      },
      "source": [
        "Run the following cell to train your model."
      ]
    },
    {
      "cell_type": "code",
      "metadata": {
        "id": "li5H1ffpmTEu",
        "colab_type": "code",
        "colab": {
          "base_uri": "https://localhost:8080/",
          "height": 51
        },
        "outputId": "60ea3cec-3dbd-45cf-c03b-6017bc29595e"
      },
      "source": [
        "d = model(train_set_x, train_set_y, test_set_x, test_set_y, num_iterations = 2000, learning_rate = 0.005, print_cost = True)"
      ],
      "execution_count": 130,
      "outputs": [
        {
          "output_type": "stream",
          "text": [
            "train accuracy: 99.04306220095694 %\n",
            "test accuracy: 70.0 %\n"
          ],
          "name": "stdout"
        }
      ]
    },
    {
      "cell_type": "markdown",
      "metadata": {
        "id": "DF6Uze16FwaD",
        "colab_type": "text"
      },
      "source": [
        "**Expected Output:**\n",
        "\n",
        "Cost after iteration 0\t0.693147\n",
        "\n",
        "       ⋮⋮                 ⋮⋮ \n",
        "Train Accuracy\t    99.04306220095694 %\n",
        "\n",
        "Test Accuracy\t      70.0 %\n"
      ]
    },
    {
      "cell_type": "markdown",
      "metadata": {
        "id": "r8uywzeiGR5X",
        "colab_type": "text"
      },
      "source": [
        "**Comment**: Training accuracy is close to 100%. This is a good sanity check: your model is working and has high enough capacity to fit the training data. Test accuracy is 68%. It is actually not bad for this simple model, given the small dataset we used and that logistic regression is a linear classifier. But no worries, you'll build an even better classifier next week!\n",
        "\n",
        "Also, you see that the model is clearly overfitting the training data. Later in this specialization you will learn how to reduce overfitting, for example by using regularization. Using the code below (and changing the `index` variable) you can look at predictions on pictures of the test set."
      ]
    },
    {
      "cell_type": "code",
      "metadata": {
        "id": "qBzjZP8xGNrg",
        "colab_type": "code",
        "colab": {
          "base_uri": "https://localhost:8080/",
          "height": 285
        },
        "outputId": "b417ab56-d775-4adb-9003-243b8bbdc6e8"
      },
      "source": [
        "# Example of a picture that was wrongly classified.\n",
        "index = 0\n",
        "plt.imshow(test_set_x[:,index].reshape((num_px, num_px, 3)))\n",
        "print (\"y = \" + str(test_set_y[0,index]) + \", you predicted that it is a \\\"\" + classes[int(d[\"Y_prediction_test\"][0,index])].decode(\"utf-8\") +  \"\\\" picture.\")"
      ],
      "execution_count": 146,
      "outputs": [
        {
          "output_type": "stream",
          "text": [
            "y = 1, you predicted that it is a \"cat\" picture.\n"
          ],
          "name": "stdout"
        },
        {
          "output_type": "display_data",
          "data": {
            "image/png": "[encoded data removed]",
            "text/plain": [
              "<Figure size 432x288 with 1 Axes>"
            ]
          },
          "metadata": {
            "tags": [],
            "needs_background": "light"
          }
        }
      ]
    },
    {
      "cell_type": "markdown",
      "metadata": {
        "id": "YFRCaJyiGm2H",
        "colab_type": "text"
      },
      "source": [
        "Let's also plot the cost function and the gradients.\n"
      ]
    },
    {
      "cell_type": "code",
      "metadata": {
        "id": "5zhQAk4wGolS",
        "colab_type": "code",
        "colab": {
          "base_uri": "https://localhost:8080/",
          "height": 295
        },
        "outputId": "824e3969-7dc2-4d74-96db-17f1bda4e9dc"
      },
      "source": [
        "# Plot learning curve (with costs)\n",
        "costs = np.squeeze(d['costs'])\n",
        "plt.plot(costs)\n",
        "plt.ylabel('cost')\n",
        "plt.xlabel('iterations (per hundreds)')\n",
        "plt.title(\"Learning rate =\" + str(d[\"learning_rate\"]))\n",
        "plt.show()"
      ],
      "execution_count": 137,
      "outputs": [
        {
          "output_type": "display_data",
          "data": {
            "image/png": "[encoded data removed]",
            "text/plain": [
              "<Figure size 432x288 with 1 Axes>"
            ]
          },
          "metadata": {
            "tags": [],
            "needs_background": "light"
          }
        }
      ]
    },
    {
      "cell_type": "markdown",
      "metadata": {
        "id": "SFaiajjLLzPk",
        "colab_type": "text"
      },
      "source": [
        "**Interpretation**:\n",
        "You can see the cost decreasing. It shows that the parameters are being learned. However, you see that you could train the model even more on the training set. Try to increase the number of iterations in the cell above and rerun the cells. You might see that the training set accuracy goes up, but the test set accuracy goes down. This is called overfitting. "
      ]
    },
    {
      "cell_type": "markdown",
      "metadata": {
        "id": "fj6tmO9uL1pv",
        "colab_type": "text"
      },
      "source": [
        "## **6 - Further analysis (optional/ungraded exercise)** ##\n",
        "\n",
        "Congratulations on building your first image classification model. Let's analyze it further, and examine possible choices for the learning rate $\\alpha$. "
      ]
    },
    {
      "cell_type": "markdown",
      "metadata": {
        "id": "OVIidFzFL5-E",
        "colab_type": "text"
      },
      "source": [
        "#### **Choice of learning rate** ####\n",
        "\n",
        "**Reminder**:\n",
        "In order for Gradient Descent to work you must choose the learning rate wisely. The learning rate $\\alpha$  determines how rapidly we update the parameters. If the learning rate is too large we may \"overshoot\" the optimal value. Similarly, if it is too small we will need too many iterations to converge to the best values. That's why it is crucial to use a well-tuned learning rate.\n",
        "\n",
        "Let's compare the learning curve of our model with several choices of learning rates. Run the cell below. This should take about 1 minute. Feel free also to try different values than the three we have initialized the `learning_rates` variable to contain, and see what happens. "
      ]
    },
    {
      "cell_type": "code",
      "metadata": {
        "id": "aCn0xMlEL0nZ",
        "colab_type": "code",
        "colab": {
          "base_uri": "https://localhost:8080/",
          "height": 585
        },
        "outputId": "e6a163d2-ef45-4a93-8449-03a4219e754c"
      },
      "source": [
        "learning_rates = [0.01, 0.001, 0.0001]\n",
        "models = {}\n",
        "for i in learning_rates:\n",
        "    print (\"learning rate is: \" + str(i))\n",
        "    models[str(i)] = model(train_set_x, train_set_y, test_set_x, test_set_y, num_iterations = 1500, learning_rate = i, print_cost = False)\n",
        "    print ('\\n' + \"-------------------------------------------------------\" + '\\n')\n",
        "\n",
        "for i in learning_rates:\n",
        "    plt.plot(np.squeeze(models[str(i)][\"costs\"]), label= str(models[str(i)][\"learning_rate\"]))\n",
        "\n",
        "plt.ylabel('cost')\n",
        "plt.xlabel('iterations (hundreds)')\n",
        "\n",
        "legend = plt.legend(loc='upper center', shadow=True)\n",
        "frame = legend.get_frame()\n",
        "frame.set_facecolor('0.90')\n",
        "plt.show()"
      ],
      "execution_count": 147,
      "outputs": [
        {
          "output_type": "stream",
          "text": [
            "learning rate is: 0.01\n",
            "train accuracy: 65.55023923444976 %\n",
            "test accuracy: 34.0 %\n",
            "\n",
            "-------------------------------------------------------\n",
            "\n",
            "learning rate is: 0.001\n",
            "train accuracy: 65.55023923444976 %\n",
            "test accuracy: 34.0 %\n",
            "\n",
            "-------------------------------------------------------\n",
            "\n",
            "learning rate is: 0.0001\n",
            "train accuracy: 65.55023923444976 %\n",
            "test accuracy: 34.0 %\n",
            "\n",
            "-------------------------------------------------------\n",
            "\n"
          ],
          "name": "stdout"
        },
        {
          "output_type": "display_data",
          "data": {
            "image/png": "[encoded data removed]",
            "text/plain": [
              "<Figure size 432x288 with 1 Axes>"
            ]
          },
          "metadata": {
            "tags": [],
            "needs_background": "light"
          }
        }
      ]
    },
    {
      "cell_type": "markdown",
      "metadata": {
        "id": "GLIvDNN5Ms2S",
        "colab_type": "text"
      },
      "source": [
        "**Interpretation**: \n",
        "- Different learning rates give different costs and thus different predictions results.\n",
        "- If the learning rate is too large (0.01), the cost may oscillate up and down. It may even diverge (though in this example, using 0.01 still eventually ends up at a good value for the cost). \n",
        "- A lower cost doesn't mean a better model. You have to check if there is possibly overfitting. It happens when the training accuracy is a lot higher than the test accuracy.\n",
        "- In deep learning, we usually recommend that you: \n",
        "    - Choose the learning rate that better minimizes the cost function.\n",
        "    - If your model overfits, use other techniques to reduce overfitting. (We'll talk about this in later videos.) \n",
        "\n",
        "\n",
        "-- **By Neha Kumari**\n",
        "\n",
        "    (Special Thanks to Coursera) "
      ]
    },
    {
      "cell_type": "code",
      "metadata": {
        "id": "NSX9ic3wMsem",
        "colab_type": "code",
        "colab": {}
      },
      "source": [
        ""
      ],
      "execution_count": null,
      "outputs": []
    }
  ]
}