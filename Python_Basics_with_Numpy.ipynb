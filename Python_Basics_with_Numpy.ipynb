{
  "nbformat": 4,
  "nbformat_minor": 0,
  "metadata": {
    "colab": {
      "name": "Python Basics with Numpy.ipynb",
      "provenance": [],
      "collapsed_sections": [],
      "authorship_tag": "ABX9TyPrUTw3Y9YG+aI7jd9zE9Hd"
    },
    "kernelspec": {
      "name": "python3",
      "display_name": "Python 3"
    }
  },
  "cells": [
    {
      "cell_type": "markdown",
      "metadata": {
        "id": "vtGmKQHqUDhW",
        "colab_type": "text"
      },
      "source": [
        "**Exercise:** Set test to \"Hello World\" in the cell below to print \"Hello World\" and run the two cells below."
      ]
    },
    {
      "cell_type": "code",
      "metadata": {
        "id": "sFOaPnhQNk7w",
        "colab_type": "code",
        "colab": {}
      },
      "source": [
        "### START CODE HERE ### (≈ 1 line of code)\n",
        "test = None\n",
        "test = \"Hello World\"\n",
        "### END CODE HERE ###"
      ],
      "execution_count": 3,
      "outputs": []
    },
    {
      "cell_type": "code",
      "metadata": {
        "id": "aYpIDmefUNtU",
        "colab_type": "code",
        "colab": {
          "base_uri": "https://localhost:8080/",
          "height": 34
        },
        "outputId": "9ce60b68-c7cb-4c4d-ce87-16ad06dda118"
      },
      "source": [
        "print (\"test: \" + test)"
      ],
      "execution_count": 4,
      "outputs": [
        {
          "output_type": "stream",
          "text": [
            "test: Hello World\n"
          ],
          "name": "stdout"
        }
      ]
    },
    {
      "cell_type": "markdown",
      "metadata": {
        "id": "u6V5Gn7BUR9J",
        "colab_type": "text"
      },
      "source": [
        "**Expected output:** test: Hello World"
      ]
    },
    {
      "cell_type": "markdown",
      "metadata": {
        "id": "zx8v_80kUueV",
        "colab_type": "text"
      },
      "source": [
        "## 1 - Building basic functions with numpy ##\n",
        "\n",
        "Numpy is the main package for scientific computing in Python. It is maintained by a large community (www.numpy.org). In this exercise you will learn several key numpy functions such as np.exp, np.log, and np.reshape.\n",
        "\n",
        "### 1.1 - sigmoid function, np.exp() ###\n",
        "\n",
        "Before using np.exp(), you will use math.exp() to implement the sigmoid function. You will then see why np.exp() is preferable to math.exp().\n",
        "\n",
        "**Exercise**: Build a function that returns the sigmoid of a real number x. Use math.exp(x) for the exponential function.\n",
        "\n",
        "**Reminder**:\n",
        "$sigmoid(x) = \\frac{1}{1+e^{-x}}$ is sometimes also known as the logistic function. It is a non-linear function used not only in Machine Learning (Logistic Regression), but also in Deep Learning.\n",
        "\n",
        "![image.png](data:image/png;base64,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)\n",
        "\n",
        "To refer to a function belonging to a specific package you could call it using package_name.function(). Run the code below to see an example with math.exp()."
      ]
    },
    {
      "cell_type": "code",
      "metadata": {
        "id": "HOs8huk_Wq6b",
        "colab_type": "code",
        "colab": {}
      },
      "source": [
        "#basic_sigmoid\n",
        "\n",
        "import math\n",
        "\n",
        "def basic_sigmoid(x):\n",
        "    \"\"\"\n",
        "    Compute sigmoid of x.\n",
        "\n",
        "    Arguments:\n",
        "    x -- A scalar\n",
        "\n",
        "    Return:\n",
        "    s -- sigmoid(x)\n",
        "    \"\"\"\n",
        "    \n",
        "    ### START CODE HERE ### (≈ 1 line of code)\n",
        "    s = None\n",
        "    s = 1/(1+math.exp(-x))\n",
        "    ### END CODE HERE ###\n",
        "    \n",
        "    return s"
      ],
      "execution_count": 5,
      "outputs": []
    },
    {
      "cell_type": "code",
      "metadata": {
        "id": "-EJlFqxiUlu7",
        "colab_type": "code",
        "colab": {
          "base_uri": "https://localhost:8080/",
          "height": 34
        },
        "outputId": "234d121c-3aec-49ab-8833-47e5aa96e4e6"
      },
      "source": [
        "basic_sigmoid(3)"
      ],
      "execution_count": 6,
      "outputs": [
        {
          "output_type": "execute_result",
          "data": {
            "text/plain": [
              "0.9525741268224334"
            ]
          },
          "metadata": {
            "tags": []
          },
          "execution_count": 6
        }
      ]
    },
    {
      "cell_type": "markdown",
      "metadata": {
        "id": "icBQ4ZNpbUEi",
        "colab_type": "text"
      },
      "source": [
        "**Expected Output**: \n",
        "    \n",
        "**basic_sigmoid(3)**  0.9525741268224334 \n",
        "   "
      ]
    },
    {
      "cell_type": "markdown",
      "metadata": {
        "id": "ellSBMyGb8t8",
        "colab_type": "text"
      },
      "source": [
        "Actually, we rarely use the \"math\" library in deep learning because the inputs of the functions are real numbers. In deep learning we mostly use matrices and vectors. This is why numpy is more useful. "
      ]
    },
    {
      "cell_type": "code",
      "metadata": {
        "id": "lNBElCxabXb-",
        "colab_type": "code",
        "colab": {
          "base_uri": "https://localhost:8080/",
          "height": 316
        },
        "outputId": "f2bb226b-fbdf-455e-943e-cba178684f8f"
      },
      "source": [
        "### One reason why we use \"numpy\" instead of \"math\" in Deep Learning ###\n",
        "x = [1, 2, 3]\n",
        "basic_sigmoid(x) # you will see this give an error when you run it, because x is a vector."
      ],
      "execution_count": 7,
      "outputs": [
        {
          "output_type": "error",
          "ename": "TypeError",
          "evalue": "ignored",
          "traceback": [
            "\u001b[0;31m---------------------------------------------------------------------------\u001b[0m",
            "\u001b[0;31mTypeError\u001b[0m                                 Traceback (most recent call last)",
            "\u001b[0;32m<ipython-input-7-8ccefa5bf989>\u001b[0m in \u001b[0;36m<module>\u001b[0;34m()\u001b[0m\n\u001b[1;32m      1\u001b[0m \u001b[0;31m### One reason why we use \"numpy\" instead of \"math\" in Deep Learning ###\u001b[0m\u001b[0;34m\u001b[0m\u001b[0;34m\u001b[0m\u001b[0;34m\u001b[0m\u001b[0m\n\u001b[1;32m      2\u001b[0m \u001b[0mx\u001b[0m \u001b[0;34m=\u001b[0m \u001b[0;34m[\u001b[0m\u001b[0;36m1\u001b[0m\u001b[0;34m,\u001b[0m \u001b[0;36m2\u001b[0m\u001b[0;34m,\u001b[0m \u001b[0;36m3\u001b[0m\u001b[0;34m]\u001b[0m\u001b[0;34m\u001b[0m\u001b[0;34m\u001b[0m\u001b[0m\n\u001b[0;32m----> 3\u001b[0;31m \u001b[0mbasic_sigmoid\u001b[0m\u001b[0;34m(\u001b[0m\u001b[0mx\u001b[0m\u001b[0;34m)\u001b[0m \u001b[0;31m# you will see this give an error when you run it, because x is a vector.\u001b[0m\u001b[0;34m\u001b[0m\u001b[0;34m\u001b[0m\u001b[0m\n\u001b[0m",
            "\u001b[0;32m<ipython-input-5-aab2a42a16e2>\u001b[0m in \u001b[0;36mbasic_sigmoid\u001b[0;34m(x)\u001b[0m\n\u001b[1;32m     16\u001b[0m     \u001b[0;31m### START CODE HERE ### (≈ 1 line of code)\u001b[0m\u001b[0;34m\u001b[0m\u001b[0;34m\u001b[0m\u001b[0;34m\u001b[0m\u001b[0m\n\u001b[1;32m     17\u001b[0m     \u001b[0ms\u001b[0m \u001b[0;34m=\u001b[0m \u001b[0;32mNone\u001b[0m\u001b[0;34m\u001b[0m\u001b[0;34m\u001b[0m\u001b[0m\n\u001b[0;32m---> 18\u001b[0;31m     \u001b[0ms\u001b[0m \u001b[0;34m=\u001b[0m \u001b[0;36m1\u001b[0m\u001b[0;34m/\u001b[0m\u001b[0;34m(\u001b[0m\u001b[0;36m1\u001b[0m\u001b[0;34m+\u001b[0m\u001b[0mmath\u001b[0m\u001b[0;34m.\u001b[0m\u001b[0mexp\u001b[0m\u001b[0;34m(\u001b[0m\u001b[0;34m-\u001b[0m\u001b[0mx\u001b[0m\u001b[0;34m)\u001b[0m\u001b[0;34m)\u001b[0m\u001b[0;34m\u001b[0m\u001b[0;34m\u001b[0m\u001b[0m\n\u001b[0m\u001b[1;32m     19\u001b[0m     \u001b[0;31m### END CODE HERE ###\u001b[0m\u001b[0;34m\u001b[0m\u001b[0;34m\u001b[0m\u001b[0;34m\u001b[0m\u001b[0m\n\u001b[1;32m     20\u001b[0m \u001b[0;34m\u001b[0m\u001b[0m\n",
            "\u001b[0;31mTypeError\u001b[0m: bad operand type for unary -: 'list'"
          ]
        }
      ]
    },
    {
      "cell_type": "markdown",
      "metadata": {
        "id": "LXej9ltHcE-H",
        "colab_type": "text"
      },
      "source": [
        "In fact, if  **x=(x1,x2,...,xn)** is a row vector then  **np.exp(x)**  will apply the exponential function to every element of x. The output will thus be:  **np.exp(x)=(ex1,ex2,...,exn)**"
      ]
    },
    {
      "cell_type": "code",
      "metadata": {
        "id": "LvHz-oJgcJn7",
        "colab_type": "code",
        "colab": {
          "base_uri": "https://localhost:8080/",
          "height": 34
        },
        "outputId": "7e0984b9-fcac-460c-d7fd-8ee0dc9e2c26"
      },
      "source": [
        "import numpy as np\n",
        "\n",
        "# example of np.exp\n",
        "x = np.array([1, 2, 3])\n",
        "print(np.exp(x)) # result is (exp(1), exp(2), exp(3))"
      ],
      "execution_count": 8,
      "outputs": [
        {
          "output_type": "stream",
          "text": [
            "[ 2.71828183  7.3890561  20.08553692]\n"
          ],
          "name": "stdout"
        }
      ]
    },
    {
      "cell_type": "markdown",
      "metadata": {
        "id": "mT82Wffkcnaa",
        "colab_type": "text"
      },
      "source": [
        "Furthermore, if x is a vector, then a Python operation such as $s = x + 3$ or $s = \\frac{1}{x}$ will output s as a vector of the same size as x."
      ]
    },
    {
      "cell_type": "code",
      "metadata": {
        "id": "Pg5evtdFcqvG",
        "colab_type": "code",
        "colab": {
          "base_uri": "https://localhost:8080/",
          "height": 34
        },
        "outputId": "9b30a90b-6cec-43d1-db8c-cae5670d7fda"
      },
      "source": [
        "# example of vector operation\n",
        "x = np.array([1, 2, 3])\n",
        "print (x + 3)"
      ],
      "execution_count": 9,
      "outputs": [
        {
          "output_type": "stream",
          "text": [
            "[4 5 6]\n"
          ],
          "name": "stdout"
        }
      ]
    },
    {
      "cell_type": "markdown",
      "metadata": {
        "id": "BsVSj-I-c2a8",
        "colab_type": "text"
      },
      "source": [
        "Any time you need more info on a numpy function, we encourage you to look at [the official documentation](https://docs.scipy.org/doc/numpy-1.10.1/reference/generated/numpy.exp.html). \n",
        "\n",
        "You can also create a new cell in the notebook and write `np.exp?` (for example) to get quick access to the documentation.\n",
        "\n",
        "**Exercise**: Implement the sigmoid function using numpy. \n",
        "\n",
        "**Instructions**: x could now be either a real number, a vector, or a matrix. The data structures we use in numpy to represent these shapes (vectors, matrices...) are called numpy arrays. You don't need to know more for now.\n",
        "$$ \\text{For } x \\in \\mathbb{R}^n \\text{,     } sigmoid(x) = sigmoid\\begin{pmatrix}\n",
        "    x_1  \\\\\n",
        "    x_2  \\\\\n",
        "    ...  \\\\\n",
        "    x_n  \\\\\n",
        "\\end{pmatrix} = \\begin{pmatrix}\n",
        "    \\frac{1}{1+e^{-x_1}}  \\\\\n",
        "    \\frac{1}{1+e^{-x_2}}  \\\\\n",
        "    ...  \\\\\n",
        "    \\frac{1}{1+e^{-x_n}}  \\\\\n",
        "\\end{pmatrix}\\tag{1} $$"
      ]
    },
    {
      "cell_type": "code",
      "metadata": {
        "id": "gckCGIcJc4vh",
        "colab_type": "code",
        "colab": {}
      },
      "source": [
        "#sigmoid\n",
        "import numpy as np # this means you can access numpy functions by writing np.function() instead of numpy.function()\n",
        "\n",
        "def sigmoid(x):\n",
        "    \"\"\"\n",
        "    Compute the sigmoid of x\n",
        "\n",
        "    Arguments:\n",
        "    x -- A scalar or numpy array of any size\n",
        "\n",
        "    Return:\n",
        "    s -- sigmoid(x)\n",
        "    \"\"\"\n",
        "    \n",
        "    ### START CODE HERE ### (≈ 1 line of code)\n",
        "    s = None\n",
        "    s = 1/(1 + np.exp(-x))\n",
        "    ### END CODE HERE ###\n",
        "    \n",
        "    return s"
      ],
      "execution_count": 10,
      "outputs": []
    },
    {
      "cell_type": "code",
      "metadata": {
        "id": "85Jt3GXrfGI0",
        "colab_type": "code",
        "colab": {
          "base_uri": "https://localhost:8080/",
          "height": 34
        },
        "outputId": "2aedcdc7-066c-486a-c23a-9d54705adda4"
      },
      "source": [
        "x = np.array([1, 2, 3])\n",
        "sigmoid(x)"
      ],
      "execution_count": 11,
      "outputs": [
        {
          "output_type": "execute_result",
          "data": {
            "text/plain": [
              "array([0.73105858, 0.88079708, 0.95257413])"
            ]
          },
          "metadata": {
            "tags": []
          },
          "execution_count": 11
        }
      ]
    },
    {
      "cell_type": "markdown",
      "metadata": {
        "id": "-PXySaY6fPio",
        "colab_type": "text"
      },
      "source": [
        "**Expected Output:**\n",
        "\n",
        "**sigmoid([1,2,3])**\tarray([ 0.73105858, 0.88079708, 0.95257413])"
      ]
    },
    {
      "cell_type": "markdown",
      "metadata": {
        "id": "75lsYsdefiI-",
        "colab_type": "text"
      },
      "source": [
        "### **1.2 - Sigmoid gradient**\n",
        "\n",
        "**Exercise**: Implement the function sigmoid_grad() to compute the gradient of the sigmoid function with respect to its input x. The formula is: $$sigmoid\\_derivative(x) = \\sigma'(x) = \\sigma(x) (1 - \\sigma(x))\\tag{2}$$\n",
        "You often code this function in two steps:\n",
        "1. Set s to be the sigmoid of x. You might find your sigmoid(x) function useful.\n",
        "2. Compute $\\sigma'(x) = s(1-s)$"
      ]
    },
    {
      "cell_type": "code",
      "metadata": {
        "id": "jgQSjTNRfJlc",
        "colab_type": "code",
        "colab": {}
      },
      "source": [
        "#sigmoid_derivative\n",
        "\n",
        "def sigmoid_derivative(x):\n",
        "    \"\"\"\n",
        "    Compute the gradient (also called the slope or derivative) of the sigmoid function with respect to its input x.\n",
        "    You can store the output of the sigmoid function into variables and then use it to calculate the gradient.\n",
        "    \n",
        "    Arguments:\n",
        "    x -- A scalar or numpy array\n",
        "\n",
        "    Return:\n",
        "    ds -- Your computed gradient.\n",
        "    \"\"\"\n",
        "    \n",
        "    ### START CODE HERE ### (≈ 2 lines of code)\n",
        "    s = 1/(1 + np.exp(-x))\n",
        "    ds = s*(1 - s)\n",
        "    ### END CODE HERE ###\n",
        "    \n",
        "    return ds\n"
      ],
      "execution_count": 12,
      "outputs": []
    },
    {
      "cell_type": "code",
      "metadata": {
        "id": "2EWw8kuEo00K",
        "colab_type": "code",
        "colab": {
          "base_uri": "https://localhost:8080/",
          "height": 34
        },
        "outputId": "40a9497a-ce28-42b1-a045-584851483ea8"
      },
      "source": [
        "x = np.array([1, 2, 3])\n",
        "print (\"sigmoid_derivative(x) = \" + str(sigmoid_derivative(x)))"
      ],
      "execution_count": 13,
      "outputs": [
        {
          "output_type": "stream",
          "text": [
            "sigmoid_derivative(x) = [0.19661193 0.10499359 0.04517666]\n"
          ],
          "name": "stdout"
        }
      ]
    },
    {
      "cell_type": "markdown",
      "metadata": {
        "id": "836gFA8Ekhy-",
        "colab_type": "text"
      },
      "source": [
        "**Expected Output:**\n",
        "\n",
        "**sigmoid_derivative([1,2,3])**\t: [ 0.19661193 0.10499359 0.04517666]\n"
      ]
    },
    {
      "cell_type": "markdown",
      "metadata": {
        "id": "jGoLV_agtU4U",
        "colab_type": "text"
      },
      "source": [
        "### **1.3 - Reshaping arrays**\n",
        "Two common numpy functions used in deep learning are np.shape and np.reshape().\n",
        "\n",
        "- X.shape is used to get the shape (dimension) of a matrix/vector X.\n",
        "\n",
        "- X.reshape(...) is used to reshape X into some other dimension.\n",
        "\n",
        "For example, in computer science, an image is represented by a 3D array of shape  (length,height,depth=3)(length,height,depth=3) . However, when you read an image as the input of an algorithm you convert it to a vector of shape  (length∗height∗3,1)(length∗height∗3,1) . In other words, you \"unroll\", or reshape, the 3D array into a 1D vector."
      ]
    },
    {
      "cell_type": "markdown",
      "metadata": {
        "id": "p2uLwMTgKGiq",
        "colab_type": "text"
      },
      "source": [
        "![image.png](data:image/png;base64,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)"
      ]
    },
    {
      "cell_type": "markdown",
      "metadata": {
        "id": "RDATjbR-KVEu",
        "colab_type": "text"
      },
      "source": [
        "**Exercise**: Implement image2vector() that takes an input of shape (length, height, 3) and returns a vector of shape (length*height*3, 1). For example, if you would like to reshape an array v of shape (a, b, c) into a vector of shape (a*b,c) you would do:\n",
        "\n",
        "v = v.reshape((v.shape[0]*v.shape[1], v.shape[2])) # v.shape[0] = a ; v.shape[1] = b ; v.shape[2] = c\n",
        "\n",
        "Please don't hardcode the dimensions of image as a constant. Instead look up the quantities you need with image.shape[0], etc."
      ]
    },
    {
      "cell_type": "code",
      "metadata": {
        "id": "fkvWgEbGKF3g",
        "colab_type": "code",
        "colab": {}
      },
      "source": [
        "#image2vector\n",
        "def image2vector(image):\n",
        "    \"\"\"\n",
        "    Argument:\n",
        "    image -- a numpy array of shape (length, height, depth)\n",
        "    \n",
        "    Returns:\n",
        "    v -- a vector of shape (length*height*depth, 1)\n",
        "    \"\"\"\n",
        "    \n",
        "    ### START CODE HERE ### (≈ 1 line of code)\n",
        "    v = image.reshape((image.shape[0]*image.shape[1], image.shape[2]))\n",
        "    ### END CODE HERE ###\n",
        "    \n",
        "    return v"
      ],
      "execution_count": 14,
      "outputs": []
    },
    {
      "cell_type": "code",
      "metadata": {
        "id": "2-S8wsmOKE0n",
        "colab_type": "code",
        "colab": {
          "base_uri": "https://localhost:8080/",
          "height": 170
        },
        "outputId": "af3cadb1-406e-4358-f7e4-c4e2671e9bbe"
      },
      "source": [
        "# This is a 3 by 3 by 2 array, typically images will be (num_px_x, num_px_y,3) where 3 represents the RGB values\n",
        "image = np.array([[[ 0.67826139,  0.29380381],\n",
        "        [ 0.90714982,  0.52835647],\n",
        "        [ 0.4215251 ,  0.45017551]],\n",
        "\n",
        "       [[ 0.92814219,  0.96677647],\n",
        "        [ 0.85304703,  0.52351845],\n",
        "        [ 0.19981397,  0.27417313]],\n",
        "\n",
        "       [[ 0.60659855,  0.00533165],\n",
        "        [ 0.10820313,  0.49978937],\n",
        "        [ 0.34144279,  0.94630077]]])\n",
        "\n",
        "print (\"image2vector(image) = \" + str(image2vector(image)))"
      ],
      "execution_count": 15,
      "outputs": [
        {
          "output_type": "stream",
          "text": [
            "image2vector(image) = [[0.67826139 0.29380381]\n",
            " [0.90714982 0.52835647]\n",
            " [0.4215251  0.45017551]\n",
            " [0.92814219 0.96677647]\n",
            " [0.85304703 0.52351845]\n",
            " [0.19981397 0.27417313]\n",
            " [0.60659855 0.00533165]\n",
            " [0.10820313 0.49978937]\n",
            " [0.34144279 0.94630077]]\n"
          ],
          "name": "stdout"
        }
      ]
    },
    {
      "cell_type": "markdown",
      "metadata": {
        "id": "kv2kUk9wX8JS",
        "colab_type": "text"
      },
      "source": [
        "**Expected Output:**\n",
        "\n",
        "**image2vector(image):** \t[[ 0.67826139] [ 0.29380381] [ 0.90714982] [ 0.52835647] [ 0.4215251 ] [ 0.45017551] [ 0.92814219] [ 0.96677647] [ 0.85304703] [ 0.52351845] [ 0.19981397] [ 0.27417313] [ 0.60659855] [ 0.00533165] [ 0.10820313] [ 0.49978937] [ 0.34144279] [ 0.94630077]]\n"
      ]
    },
    {
      "cell_type": "markdown",
      "metadata": {
        "id": "SdgRyBE9bmIW",
        "colab_type": "text"
      },
      "source": [
        "### **1.4 - Normalizing rows**\n",
        "\n",
        "Another common technique we use in Machine Learning and Deep Learning is to normalize our data. It often leads to a better performance because gradient descent converges faster after normalization. Here, by normalization we mean changing x to $ \\frac{x}{\\| x\\|} $ (dividing each row vector of x by its norm).\n",
        "\n",
        "For example, if $$x = \n",
        "\\begin{bmatrix}\n",
        "    0 & 3 & 4 \\\\\n",
        "    2 & 6 & 4 \\\\\n",
        "\\end{bmatrix}\\tag{3}$$ then $$\\| x\\| = np.linalg.norm(x, axis = 1, keepdims = True) = \\begin{bmatrix}\n",
        "    5 \\\\\n",
        "    \\sqrt{56} \\\\\n",
        "\\end{bmatrix}\\tag{4} $$and        $$ x\\_normalized = \\frac{x}{\\| x\\|} = \\begin{bmatrix}\n",
        "    0 & \\frac{3}{5} & \\frac{4}{5} \\\\\n",
        "    \\frac{2}{\\sqrt{56}} & \\frac{6}{\\sqrt{56}} & \\frac{4}{\\sqrt{56}} \\\\\n",
        "\\end{bmatrix}\\tag{5}$$ Note that you can divide matrices of different sizes and it works fine: this is called broadcasting and you're going to learn about it in part 5.\n",
        "\n",
        "\n",
        "**Exercise**: Implement normalizeRows() to normalize the rows of a matrix. After applying this function to an input matrix x, each row of x should be a vector of unit length (meaning length 1)."
      ]
    },
    {
      "cell_type": "code",
      "metadata": {
        "id": "2Ap2zALPXkMy",
        "colab_type": "code",
        "colab": {}
      },
      "source": [
        "#normalizeRows\n",
        "\n",
        "def normalizeRows(x):\n",
        "    \"\"\"\n",
        "    Implement a function that normalizes each row of the matrix x (to have unit length).\n",
        "    \n",
        "    Argument:\n",
        "    x -- A numpy matrix of shape (n, m)\n",
        "    \n",
        "    Returns:\n",
        "    x -- The normalized (by row) numpy matrix. You are allowed to modify x.\n",
        "    \"\"\"\n",
        "    \n",
        "    ### START CODE HERE ### (≈ 2 lines of code)\n",
        "    # Compute x_norm as the norm 2 of x. Use np.linalg.norm(..., ord = 2, axis = ..., keepdims = True)\n",
        "    x_norm = np.linalg.norm(x,ord = 2,axis = 1, keepdims = True)\n",
        "    \n",
        "    # Divide x by its norm.\n",
        "    x = x/x_norm\n",
        "    ### END CODE HERE ###\n",
        "\n",
        "    return x"
      ],
      "execution_count": 16,
      "outputs": []
    },
    {
      "cell_type": "code",
      "metadata": {
        "id": "fMtxoUmSwDV8",
        "colab_type": "code",
        "colab": {
          "base_uri": "https://localhost:8080/",
          "height": 51
        },
        "outputId": "5ebf7c08-3e3c-4bf2-baf9-bc2bb7c393c6"
      },
      "source": [
        "x = np.array([\n",
        "    [0, 3, 4],\n",
        "    [1, 6, 4]])\n",
        "print(\"normalizeRows(x) = \" + str(normalizeRows(x)))"
      ],
      "execution_count": 17,
      "outputs": [
        {
          "output_type": "stream",
          "text": [
            "normalizeRows(x) = [[0.         0.6        0.8       ]\n",
            " [0.13736056 0.82416338 0.54944226]]\n"
          ],
          "name": "stdout"
        }
      ]
    },
    {
      "cell_type": "markdown",
      "metadata": {
        "id": "-JnYNLzwwXuf",
        "colab_type": "text"
      },
      "source": [
        "**Expected Output:**\n",
        "\n",
        "**normalizeRows(x)**\t[[ 0. 0.6 0.8 ] [ 0.13736056 0.82416338 0.54944226]]\n",
        "\n",
        "\n",
        "**Note**: In normalizeRows(), you can try to print the shapes of x_norm and x, and then rerun the notebook. You'll find out that they have different shapes. This is normal given that x_norm takes the norm of each row of x. So x_norm has the same number of rows but only 1 column. So how did it work when you divided x by x_norm? This is called broadcasting and we'll talk about it now!"
      ]
    },
    {
      "cell_type": "markdown",
      "metadata": {
        "id": "L9dcyyt01SCf",
        "colab_type": "text"
      },
      "source": [
        "### **1.5 - Broadcasting and the softmax function** ###\n",
        "A very important concept to understand in numpy is \"broadcasting\". It is very useful for performing mathematical operations between arrays of different shapes. For the full details on broadcasting, you can read the official [broadcasting documentation](http://docs.scipy.org/doc/numpy/user/basics.broadcasting.html)."
      ]
    },
    {
      "cell_type": "markdown",
      "metadata": {
        "id": "Sh9SMh0H1iYI",
        "colab_type": "text"
      },
      "source": [
        "**Exercise**: Implement a softmax function using numpy. You can think of softmax as a normalizing function used when your algorithm needs to classify two or more classes. You will learn more about softmax in the second course of this specialization.\n",
        "\n",
        "**Instructions**:\n",
        "- $ \\text{for } x \\in \\mathbb{R}^{1\\times n} \\text{,     } softmax(x) = softmax(\\begin{bmatrix}\n",
        "    x_1  &&\n",
        "    x_2 &&\n",
        "    ...  &&\n",
        "    x_n  \n",
        "\\end{bmatrix}) = \\begin{bmatrix}\n",
        "     \\frac{e^{x_1}}{\\sum_{j}e^{x_j}}  &&\n",
        "    \\frac{e^{x_2}}{\\sum_{j}e^{x_j}}  &&\n",
        "    ...  &&\n",
        "    \\frac{e^{x_n}}{\\sum_{j}e^{x_j}} \n",
        "\\end{bmatrix} $ \n",
        "\n",
        "- $\\text{for a matrix } x \\in \\mathbb{R}^{m \\times n} \\text{,  $x_{ij}$ maps to the element in the $i^{th}$ row and $j^{th}$ column of $x$, thus we have: }$  $$softmax(x) = softmax\\begin{bmatrix}\n",
        "    x_{11} & x_{12} & x_{13} & \\dots  & x_{1n} \\\\\n",
        "    x_{21} & x_{22} & x_{23} & \\dots  & x_{2n} \\\\\n",
        "    \\vdots & \\vdots & \\vdots & \\ddots & \\vdots \\\\\n",
        "    x_{m1} & x_{m2} & x_{m3} & \\dots  & x_{mn}\n",
        "\\end{bmatrix} = \\begin{bmatrix}\n",
        "    \\frac{e^{x_{11}}}{\\sum_{j}e^{x_{1j}}} & \\frac{e^{x_{12}}}{\\sum_{j}e^{x_{1j}}} & \\frac{e^{x_{13}}}{\\sum_{j}e^{x_{1j}}} & \\dots  & \\frac{e^{x_{1n}}}{\\sum_{j}e^{x_{1j}}} \\\\\n",
        "    \\frac{e^{x_{21}}}{\\sum_{j}e^{x_{2j}}} & \\frac{e^{x_{22}}}{\\sum_{j}e^{x_{2j}}} & \\frac{e^{x_{23}}}{\\sum_{j}e^{x_{2j}}} & \\dots  & \\frac{e^{x_{2n}}}{\\sum_{j}e^{x_{2j}}} \\\\\n",
        "    \\vdots & \\vdots & \\vdots & \\ddots & \\vdots \\\\\n",
        "    \\frac{e^{x_{m1}}}{\\sum_{j}e^{x_{mj}}} & \\frac{e^{x_{m2}}}{\\sum_{j}e^{x_{mj}}} & \\frac{e^{x_{m3}}}{\\sum_{j}e^{x_{mj}}} & \\dots  & \\frac{e^{x_{mn}}}{\\sum_{j}e^{x_{mj}}}\n",
        "\\end{bmatrix} = \\begin{pmatrix}\n",
        "    softmax\\text{(first row of x)}  \\\\\n",
        "    softmax\\text{(second row of x)} \\\\\n",
        "    ...  \\\\\n",
        "    softmax\\text{(last row of x)} \\\\\n",
        "\\end{pmatrix} $$"
      ]
    },
    {
      "cell_type": "markdown",
      "metadata": {
        "id": "InvGw41m1oSp",
        "colab_type": "text"
      },
      "source": [
        "**Note** \n",
        "\n",
        "Note that later in the course, you'll see \"m\" used to represent the \"number of training examples\", and each training example is in its own column of the matrix.  \n",
        "Also, each feature will be in its own row (each row has data for the same feature).  \n",
        "Softmax should be performed for all features of each training example, so softmax would be performed on the columns (once we switch to that representation later in this course).\n",
        "\n",
        "However, in this coding practice, we're just focusing on getting familiar with Python, so we're using the common math notation $m \\times n$  \n",
        "where $m$ is the number of rows and $n$ is the number of columns."
      ]
    },
    {
      "cell_type": "code",
      "metadata": {
        "id": "_U1lwrubwPmD",
        "colab_type": "code",
        "colab": {}
      },
      "source": [
        "# softmax\n",
        "\n",
        "def softmax(x):\n",
        "    \"\"\"Calculates the softmax for each row of the input x.\n",
        "\n",
        "    Your code should work for a row vector and also for matrices of shape (m,n).\n",
        "\n",
        "    Argument:\n",
        "    x -- A numpy matrix of shape (m,n)\n",
        "\n",
        "    Returns:\n",
        "    s -- A numpy matrix equal to the softmax of x, of shape (m,n)\n",
        "    \"\"\"\n",
        "    \n",
        "    ### START CODE HERE ### (≈ 3 lines of code)\n",
        "    # Apply exp() element-wise to x. Use np.exp(...).\n",
        "    x_exp = np.exp(x)\n",
        "\n",
        "    # Create a vector x_sum that sums each row of x_exp. Use np.sum(..., axis = 1, keepdims = True).\n",
        "    x_sum = np.sum(x_exp,axis = 1,keepdims = True)\n",
        "    \n",
        "    # Compute softmax(x) by dividing x_exp by x_sum. It should automatically use numpy broadcasting.\n",
        "    s = x_exp/x_sum\n",
        "\n",
        "    ### END CODE HERE ###\n",
        "    \n",
        "    return s"
      ],
      "execution_count": 18,
      "outputs": []
    },
    {
      "cell_type": "code",
      "metadata": {
        "id": "2ZmAz0ynSor4",
        "colab_type": "code",
        "colab": {
          "base_uri": "https://localhost:8080/",
          "height": 85
        },
        "outputId": "2cda5866-a91c-4961-a008-aef3ed35f380"
      },
      "source": [
        "x = np.array([\n",
        "    [9, 2, 5, 0, 0],\n",
        "    [7, 5, 0, 0 ,0]])\n",
        "print(\"softmax(x) = \" + str(softmax(x)))"
      ],
      "execution_count": 19,
      "outputs": [
        {
          "output_type": "stream",
          "text": [
            "softmax(x) = [[9.80897665e-01 8.94462891e-04 1.79657674e-02 1.21052389e-04\n",
            "  1.21052389e-04]\n",
            " [8.78679856e-01 1.18916387e-01 8.01252314e-04 8.01252314e-04\n",
            "  8.01252314e-04]]\n"
          ],
          "name": "stdout"
        }
      ]
    },
    {
      "cell_type": "markdown",
      "metadata": {
        "id": "zCAYX9FRTdAW",
        "colab_type": "text"
      },
      "source": [
        "**Expected Output:**\n",
        "\n",
        "**softmax(x)**\n",
        "\n",
        "[[ 9.80897665e-01 8.94462891e-04 1.79657674e-02 1.21052389e-04 1.21052389e-04] [ 8.78679856e-01 1.18916387e-01 8.01252314e-04 8.01252314e-04 8.01252314e-04]]\n"
      ]
    },
    {
      "cell_type": "markdown",
      "metadata": {
        "id": "dYA7y_rXTaKE",
        "colab_type": "text"
      },
      "source": [
        "**Note**:\n",
        "- If you print the shapes of x_exp, x_sum and s above and rerun the assessment cell, you will see that x_sum is of shape (2,1) while x_exp and s are of shape (2,5). **x_exp/x_sum** works due to python broadcasting.\n",
        "\n",
        "Congratulations! You now have a pretty good understanding of python numpy and have implemented a few useful functions that you will be using in deep learning."
      ]
    },
    {
      "cell_type": "markdown",
      "metadata": {
        "id": "wgjSkW-jTZEE",
        "colab_type": "text"
      },
      "source": [
        "\n",
        "**What you need to remember**:\n",
        "- np.exp(x) works for any np.array x and applies the exponential function to every coordinate\n",
        "- the sigmoid function and its gradient\n",
        "- image2vector is commonly used in deep learning\n",
        "- np.reshape is widely used. In the future, you'll see that keeping your matrix/vector dimensions straight will go toward eliminating a lot of bugs. \n",
        "- numpy has efficient built-in functions\n",
        "- broadcasting is extremely useful"
      ]
    },
    {
      "cell_type": "markdown",
      "metadata": {
        "id": "klYRe1dfdjUl",
        "colab_type": "text"
      },
      "source": [
        "## **2) Vectorization**\n",
        "\n",
        "In deep learning, you deal with very large datasets. Hence, a non-computationally-optimal function can become a huge bottleneck in your algorithm and can result in a model that takes ages to run. To make sure that your code is computationally efficient, you will use vectorization. For example, try to tell the difference between the following implementations of the dot/outer/elementwise product."
      ]
    },
    {
      "cell_type": "code",
      "metadata": {
        "id": "IiR0vyN2TV0m",
        "colab_type": "code",
        "colab": {
          "base_uri": "https://localhost:8080/",
          "height": 391
        },
        "outputId": "6d99dcb7-0e59-4466-f3af-3a50a2a9a05f"
      },
      "source": [
        "import time\n",
        "\n",
        "x1 = [9, 2, 5, 0, 0, 7, 5, 0, 0, 0, 9, 2, 5, 0, 0]\n",
        "x2 = [9, 2, 2, 9, 0, 9, 2, 5, 0, 0, 9, 2, 5, 0, 0]\n",
        "\n",
        "### CLASSIC DOT PRODUCT OF VECTORS IMPLEMENTATION ###\n",
        "tic = time.process_time()\n",
        "dot = 0\n",
        "for i in range(len(x1)):\n",
        "    dot+= x1[i]*x2[i]\n",
        "toc = time.process_time()\n",
        "print (\"dot = \" + str(dot) + \"\\n ----- Computation time = \" + str(1000*(toc - tic)) + \"ms\")\n",
        "\n",
        "### CLASSIC OUTER PRODUCT IMPLEMENTATION ###\n",
        "tic = time.process_time()\n",
        "outer = np.zeros((len(x1),len(x2))) # we create a len(x1)*len(x2) matrix with only zeros\n",
        "for i in range(len(x1)):\n",
        "    for j in range(len(x2)):\n",
        "        outer[i,j] = x1[i]*x2[j]\n",
        "toc = time.process_time()\n",
        "print (\"outer = \" + str(outer) + \"\\n ----- Computation time = \" + str(1000*(toc - tic)) + \"ms\")\n",
        "\n",
        "### CLASSIC ELEMENTWISE IMPLEMENTATION ###\n",
        "tic = time.process_time()\n",
        "mul = np.zeros(len(x1))\n",
        "for i in range(len(x1)):\n",
        "    mul[i] = x1[i]*x2[i]\n",
        "toc = time.process_time()\n",
        "print (\"elementwise multiplication = \" + str(mul) + \"\\n ----- Computation time = \" + str(1000*(toc - tic)) + \"ms\")\n",
        "\n",
        "### CLASSIC GENERAL DOT PRODUCT IMPLEMENTATION ###\n",
        "W = np.random.rand(3,len(x1)) # Random 3*len(x1) numpy array\n",
        "tic = time.process_time()\n",
        "gdot = np.zeros(W.shape[0])\n",
        "for i in range(W.shape[0]):\n",
        "    for j in range(len(x1)):\n",
        "        gdot[i] += W[i,j]*x1[j]\n",
        "toc = time.process_time()\n",
        "print (\"gdot = \" + str(gdot) + \"\\n ----- Computation time = \" + str(1000*(toc - tic)) + \"ms\")"
      ],
      "execution_count": 20,
      "outputs": [
        {
          "output_type": "stream",
          "text": [
            "dot = 278\n",
            " ----- Computation time = 0.06890500000000799ms\n",
            "outer = [[81. 18. 18. 81.  0. 81. 18. 45.  0.  0. 81. 18. 45.  0.  0.]\n",
            " [18.  4.  4. 18.  0. 18.  4. 10.  0.  0. 18.  4. 10.  0.  0.]\n",
            " [45. 10. 10. 45.  0. 45. 10. 25.  0.  0. 45. 10. 25.  0.  0.]\n",
            " [ 0.  0.  0.  0.  0.  0.  0.  0.  0.  0.  0.  0.  0.  0.  0.]\n",
            " [ 0.  0.  0.  0.  0.  0.  0.  0.  0.  0.  0.  0.  0.  0.  0.]\n",
            " [63. 14. 14. 63.  0. 63. 14. 35.  0.  0. 63. 14. 35.  0.  0.]\n",
            " [45. 10. 10. 45.  0. 45. 10. 25.  0.  0. 45. 10. 25.  0.  0.]\n",
            " [ 0.  0.  0.  0.  0.  0.  0.  0.  0.  0.  0.  0.  0.  0.  0.]\n",
            " [ 0.  0.  0.  0.  0.  0.  0.  0.  0.  0.  0.  0.  0.  0.  0.]\n",
            " [ 0.  0.  0.  0.  0.  0.  0.  0.  0.  0.  0.  0.  0.  0.  0.]\n",
            " [81. 18. 18. 81.  0. 81. 18. 45.  0.  0. 81. 18. 45.  0.  0.]\n",
            " [18.  4.  4. 18.  0. 18.  4. 10.  0.  0. 18.  4. 10.  0.  0.]\n",
            " [45. 10. 10. 45.  0. 45. 10. 25.  0.  0. 45. 10. 25.  0.  0.]\n",
            " [ 0.  0.  0.  0.  0.  0.  0.  0.  0.  0.  0.  0.  0.  0.  0.]\n",
            " [ 0.  0.  0.  0.  0.  0.  0.  0.  0.  0.  0.  0.  0.  0.  0.]]\n",
            " ----- Computation time = 0.6349199999999833ms\n",
            "elementwise multiplication = [81.  4. 10.  0.  0. 63. 10.  0.  0.  0. 81.  4. 25.  0.  0.]\n",
            " ----- Computation time = 0.22277199999987118ms\n",
            "gdot = [21.28431442 22.62423418 27.07592052]\n",
            " ----- Computation time = 0.2530380000003163ms\n"
          ],
          "name": "stdout"
        }
      ]
    },
    {
      "cell_type": "code",
      "metadata": {
        "id": "g5BKLZt0emvf",
        "colab_type": "code",
        "colab": {
          "base_uri": "https://localhost:8080/",
          "height": 391
        },
        "outputId": "9356de69-c1b7-4f3f-f115-bc1de823dd4a"
      },
      "source": [
        "x1 = [9, 2, 5, 0, 0, 7, 5, 0, 0, 0, 9, 2, 5, 0, 0]\n",
        "x2 = [9, 2, 2, 9, 0, 9, 2, 5, 0, 0, 9, 2, 5, 0, 0]\n",
        "\n",
        "### VECTORIZED DOT PRODUCT OF VECTORS ###\n",
        "tic = time.process_time()\n",
        "dot = np.dot(x1,x2)\n",
        "toc = time.process_time()\n",
        "print (\"dot = \" + str(dot) + \"\\n ----- Computation time = \" + str(1000*(toc - tic)) + \"ms\")\n",
        "\n",
        "### VECTORIZED OUTER PRODUCT ###\n",
        "tic = time.process_time()\n",
        "outer = np.outer(x1,x2)\n",
        "toc = time.process_time()\n",
        "print (\"outer = \" + str(outer) + \"\\n ----- Computation time = \" + str(1000*(toc - tic)) + \"ms\")\n",
        "\n",
        "### VECTORIZED ELEMENTWISE MULTIPLICATION ###\n",
        "tic = time.process_time()\n",
        "mul = np.multiply(x1,x2)\n",
        "toc = time.process_time()\n",
        "print (\"elementwise multiplication = \" + str(mul) + \"\\n ----- Computation time = \" + str(1000*(toc - tic)) + \"ms\")\n",
        "\n",
        "### VECTORIZED GENERAL DOT PRODUCT ###\n",
        "tic = time.process_time()\n",
        "dot = np.dot(W,x1)\n",
        "toc = time.process_time()\n",
        "print (\"gdot = \" + str(dot) + \"\\n ----- Computation time = \" + str(1000*(toc - tic)) + \"ms\")"
      ],
      "execution_count": 21,
      "outputs": [
        {
          "output_type": "stream",
          "text": [
            "dot = 278\n",
            " ----- Computation time = 0.1739229999997427ms\n",
            "outer = [[81 18 18 81  0 81 18 45  0  0 81 18 45  0  0]\n",
            " [18  4  4 18  0 18  4 10  0  0 18  4 10  0  0]\n",
            " [45 10 10 45  0 45 10 25  0  0 45 10 25  0  0]\n",
            " [ 0  0  0  0  0  0  0  0  0  0  0  0  0  0  0]\n",
            " [ 0  0  0  0  0  0  0  0  0  0  0  0  0  0  0]\n",
            " [63 14 14 63  0 63 14 35  0  0 63 14 35  0  0]\n",
            " [45 10 10 45  0 45 10 25  0  0 45 10 25  0  0]\n",
            " [ 0  0  0  0  0  0  0  0  0  0  0  0  0  0  0]\n",
            " [ 0  0  0  0  0  0  0  0  0  0  0  0  0  0  0]\n",
            " [ 0  0  0  0  0  0  0  0  0  0  0  0  0  0  0]\n",
            " [81 18 18 81  0 81 18 45  0  0 81 18 45  0  0]\n",
            " [18  4  4 18  0 18  4 10  0  0 18  4 10  0  0]\n",
            " [45 10 10 45  0 45 10 25  0  0 45 10 25  0  0]\n",
            " [ 0  0  0  0  0  0  0  0  0  0  0  0  0  0  0]\n",
            " [ 0  0  0  0  0  0  0  0  0  0  0  0  0  0  0]]\n",
            " ----- Computation time = 0.23225899999967936ms\n",
            "elementwise multiplication = [81  4 10  0  0 63 10  0  0  0 81  4 25  0  0]\n",
            " ----- Computation time = 0.19168399999980323ms\n",
            "gdot = [21.28431442 22.62423418 27.07592052]\n",
            " ----- Computation time = 0.34392799999993784ms\n"
          ],
          "name": "stdout"
        }
      ]
    },
    {
      "cell_type": "markdown",
      "metadata": {
        "id": "3NKF7vQofAQs",
        "colab_type": "text"
      },
      "source": [
        "As you may have noticed, the vectorized implementation is much cleaner and more efficient. For bigger vectors/matrices, the differences in running time become even bigger.\n",
        "\n",
        "**Note** that np.dot() performs a matrix-matrix or matrix-vector multiplication. This is different from np.multiply() and the * operator (which is equivalent to .* in Matlab/Octave), which performs an element-wise multiplication."
      ]
    },
    {
      "cell_type": "markdown",
      "metadata": {
        "id": "W5gNHizCfGYG",
        "colab_type": "text"
      },
      "source": [
        "### 2.1 Implement the L1 and L2 loss functions\n",
        "\n",
        "**Exercise**: Implement the numpy vectorized version of the L1 loss. You may find the function abs(x) (absolute value of x) useful.\n",
        "\n",
        "**Reminder**:\n",
        "- The loss is used to evaluate the performance of your model. The bigger your loss is, the more different your predictions ($ \\hat{y} $) are from the true values ($y$). In deep learning, you use optimization algorithms like Gradient Descent to train your model and to minimize the cost.\n",
        "- L1 loss is defined as:\n",
        "$$\\begin{align*} & L_1(\\hat{y}, y) = \\sum_{i=0}^m|y^{(i)} - \\hat{y}^{(i)}| \\end{align*}\\tag{6}$$"
      ]
    },
    {
      "cell_type": "code",
      "metadata": {
        "id": "42N3IjK0evtC",
        "colab_type": "code",
        "colab": {}
      },
      "source": [
        "#L1\n",
        "\n",
        "def L1(yhat, y):\n",
        "    \"\"\"\n",
        "    Arguments:\n",
        "    yhat -- vector of size m (predicted labels)\n",
        "    y -- vector of size m (true labels)\n",
        "    \n",
        "    Returns:\n",
        "    loss -- the value of the L1 loss function defined above\n",
        "    \"\"\"\n",
        "    \n",
        "    ### START CODE HERE ### (≈ 1 line of code)\n",
        "    loss = np.sum(np.abs(y - yhat))\n",
        "    ### END CODE HERE ###\n",
        "    \n",
        "    return loss"
      ],
      "execution_count": 32,
      "outputs": []
    },
    {
      "cell_type": "code",
      "metadata": {
        "id": "BEIQWK7FgOAx",
        "colab_type": "code",
        "colab": {
          "base_uri": "https://localhost:8080/",
          "height": 34
        },
        "outputId": "b136a094-4f8c-49db-bc1f-c57e60b67400"
      },
      "source": [
        "yhat = np.array([.9, 0.2, 0.1, .4, .9])\n",
        "y = np.array([1, 0, 0, 1, 1])\n",
        "print(\"L1 = \" + str(L1(yhat,y)))"
      ],
      "execution_count": 33,
      "outputs": [
        {
          "output_type": "stream",
          "text": [
            "L1 = 1.1\n"
          ],
          "name": "stdout"
        }
      ]
    },
    {
      "cell_type": "markdown",
      "metadata": {
        "id": "CicCxVZYgVHA",
        "colab_type": "text"
      },
      "source": [
        "**Expected Output:**\n",
        "\n",
        "**L1**\t    1.1\n"
      ]
    },
    {
      "cell_type": "markdown",
      "metadata": {
        "id": "Z8n1rrnths51",
        "colab_type": "text"
      },
      "source": [
        "**Exercise**: Implement the numpy vectorized version of the L2 loss. There are several way of implementing the L2 loss but you may find the function np.dot() useful. As a reminder, if $x = [x_1, x_2, ..., x_n]$, then `np.dot(x,x)` = $\\sum_{j=0}^n x_j^{2}$. \n",
        "\n",
        "- L2 loss is defined as $$\\begin{align*} & L_2(\\hat{y},y) = \\sum_{i=0}^m(y^{(i)} - \\hat{y}^{(i)})^2 \\end{align*}\\tag{7}$$"
      ]
    },
    {
      "cell_type": "code",
      "metadata": {
        "id": "Eoz9JXJ8hxyb",
        "colab_type": "code",
        "colab": {}
      },
      "source": [
        "#L2\n",
        "\n",
        "def L2(yhat, y):\n",
        "    \"\"\"\n",
        "    Arguments:\n",
        "    yhat -- vector of size m (predicted labels)\n",
        "    y -- vector of size m (true labels)\n",
        "    \n",
        "    Returns:\n",
        "    loss -- the value of the L2 loss function defined above\n",
        "    \"\"\"\n",
        "    \n",
        "    ### START CODE HERE ### (≈ 1 line of code)\n",
        "    loss = np.sum(np.dot((y - yhat),(y - yhat)))\n",
        "    ### END CODE HERE ###\n",
        "    \n",
        "    return loss"
      ],
      "execution_count": 40,
      "outputs": []
    },
    {
      "cell_type": "code",
      "metadata": {
        "id": "tiGMdB3hiVz5",
        "colab_type": "code",
        "colab": {
          "base_uri": "https://localhost:8080/",
          "height": 34
        },
        "outputId": "6ac024ad-f3d0-49e9-fd55-f866c05a1c72"
      },
      "source": [
        "yhat = np.array([.9, 0.2, 0.1, .4, .9])\n",
        "y = np.array([1, 0, 0, 1, 1])\n",
        "print(\"L2 = \" + str(L2(yhat,y)))"
      ],
      "execution_count": 41,
      "outputs": [
        {
          "output_type": "stream",
          "text": [
            "L2 = 0.43\n"
          ],
          "name": "stdout"
        }
      ]
    },
    {
      "cell_type": "markdown",
      "metadata": {
        "id": "ledwFb_Xj6ar",
        "colab_type": "text"
      },
      "source": [
        "**Expected Output:**\n",
        "\n",
        "**L2**\t0.43\n"
      ]
    },
    {
      "cell_type": "markdown",
      "metadata": {
        "id": "dxxBDBX5j9Xb",
        "colab_type": "text"
      },
      "source": [
        "**What to remember:**\n",
        "- Vectorization is very important in deep learning. It provides computational efficiency and clarity.\n",
        "- You have reviewed the L1 and L2 loss.\n",
        "- You are familiar with many numpy functions such as np.sum, np.dot, np.multiply, np.maximum, etc..."
      ]
    },
    {
      "cell_type": "markdown",
      "metadata": {
        "id": "ctNYF6_ckIt6",
        "colab_type": "text"
      },
      "source": [
        "### **- BY NEHA KUMARI**\n",
        " (Special Thanks to Coursera )"
      ]
    },
    {
      "cell_type": "code",
      "metadata": {
        "id": "SG-1SfJ0iarb",
        "colab_type": "code",
        "colab": {}
      },
      "source": [
        ""
      ],
      "execution_count": null,
      "outputs": []
    }
  ]
}